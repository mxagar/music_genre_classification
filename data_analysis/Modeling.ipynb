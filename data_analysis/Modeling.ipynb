{
 "cells": [
  {
   "cell_type": "markdown",
   "id": "8aeeadad",
   "metadata": {},
   "source": [
    "# Data Modeling"
   ]
  },
  {
   "cell_type": "markdown",
   "id": "db9ff695",
   "metadata": {},
   "source": [
    "This notebook carries out basic data modeling of the [Dataset of songs in Spotify](https://www.kaggle.com/datasets/mrmorj/dataset-of-songs-in-spotify); then, this data modeling is trasferred to production-level code in the components placed in the uper level of this folder.\n",
    "\n",
    "Note that the present notebook is not tracked with Weights and Biases. To see how to track notebooks, have a look at [`EDA_Tracked.ipynb`](EDA_Tracked.ipynb).\n",
    "\n",
    "Overview of contents:\n",
    "\n",
    "1. [Basic EDA](#1.-basic-eda)\n",
    "2. [Preprocessing: Basic Cleaning and Feature Engineering](#2.-Preprocessing:-Basic-Cleaning-and-Feature Engineering)\n",
    "3. C"
   ]
  },
  {
   "cell_type": "markdown",
   "id": "7d2827bd",
   "metadata": {},
   "source": [
    "## 1. Basic EDA"
   ]
  },
  {
   "cell_type": "code",
   "execution_count": 1,
   "id": "40847a7b",
   "metadata": {},
   "outputs": [],
   "source": [
    "import numpy as np\n",
    "import pandas as pd\n",
    "import matplotlib.pyplot as plt\n",
    "import seaborn as sns"
   ]
  },
  {
   "cell_type": "code",
   "execution_count": 2,
   "id": "ac70feed",
   "metadata": {},
   "outputs": [],
   "source": [
    "df = pd.read_parquet('../dataset/genres_mod.parquet')"
   ]
  },
  {
   "cell_type": "code",
   "execution_count": 3,
   "id": "4ae6f9b4",
   "metadata": {},
   "outputs": [
    {
     "data": {
      "text/html": [
       "<div>\n",
       "<style scoped>\n",
       "    .dataframe tbody tr th:only-of-type {\n",
       "        vertical-align: middle;\n",
       "    }\n",
       "\n",
       "    .dataframe tbody tr th {\n",
       "        vertical-align: top;\n",
       "    }\n",
       "\n",
       "    .dataframe thead th {\n",
       "        text-align: right;\n",
       "    }\n",
       "</style>\n",
       "<table border=\"1\" class=\"dataframe\">\n",
       "  <thead>\n",
       "    <tr style=\"text-align: right;\">\n",
       "      <th></th>\n",
       "      <th>danceability</th>\n",
       "      <th>energy</th>\n",
       "      <th>key</th>\n",
       "      <th>loudness</th>\n",
       "      <th>mode</th>\n",
       "      <th>speechiness</th>\n",
       "      <th>acousticness</th>\n",
       "      <th>instrumentalness</th>\n",
       "      <th>liveness</th>\n",
       "      <th>valence</th>\n",
       "      <th>tempo</th>\n",
       "      <th>type</th>\n",
       "      <th>duration_ms</th>\n",
       "      <th>time_signature</th>\n",
       "      <th>genre</th>\n",
       "      <th>song_name</th>\n",
       "      <th>title</th>\n",
       "    </tr>\n",
       "  </thead>\n",
       "  <tbody>\n",
       "    <tr>\n",
       "      <th>0</th>\n",
       "      <td>0.831</td>\n",
       "      <td>0.814</td>\n",
       "      <td>2</td>\n",
       "      <td>-7.364</td>\n",
       "      <td>1</td>\n",
       "      <td>0.4200</td>\n",
       "      <td>0.0598</td>\n",
       "      <td>0.013400</td>\n",
       "      <td>0.0556</td>\n",
       "      <td>0.3890</td>\n",
       "      <td>156.985</td>\n",
       "      <td>audio_features</td>\n",
       "      <td>124539</td>\n",
       "      <td>4</td>\n",
       "      <td>Dark Trap</td>\n",
       "      <td>Mercury: Retrograde</td>\n",
       "      <td>None</td>\n",
       "    </tr>\n",
       "    <tr>\n",
       "      <th>1</th>\n",
       "      <td>0.719</td>\n",
       "      <td>0.493</td>\n",
       "      <td>8</td>\n",
       "      <td>-7.230</td>\n",
       "      <td>1</td>\n",
       "      <td>0.0794</td>\n",
       "      <td>0.4010</td>\n",
       "      <td>0.000000</td>\n",
       "      <td>0.1180</td>\n",
       "      <td>0.1240</td>\n",
       "      <td>115.080</td>\n",
       "      <td>audio_features</td>\n",
       "      <td>224427</td>\n",
       "      <td>4</td>\n",
       "      <td>Dark Trap</td>\n",
       "      <td>Pathology</td>\n",
       "      <td>None</td>\n",
       "    </tr>\n",
       "    <tr>\n",
       "      <th>2</th>\n",
       "      <td>0.850</td>\n",
       "      <td>0.893</td>\n",
       "      <td>5</td>\n",
       "      <td>NaN</td>\n",
       "      <td>1</td>\n",
       "      <td>0.0623</td>\n",
       "      <td>0.0138</td>\n",
       "      <td>0.000004</td>\n",
       "      <td>0.3720</td>\n",
       "      <td>0.0391</td>\n",
       "      <td>218.050</td>\n",
       "      <td>audio_features</td>\n",
       "      <td>98821</td>\n",
       "      <td>4</td>\n",
       "      <td>Dark Trap</td>\n",
       "      <td>Symbiote</td>\n",
       "      <td>None</td>\n",
       "    </tr>\n",
       "    <tr>\n",
       "      <th>3</th>\n",
       "      <td>0.476</td>\n",
       "      <td>0.781</td>\n",
       "      <td>0</td>\n",
       "      <td>-4.710</td>\n",
       "      <td>1</td>\n",
       "      <td>0.1030</td>\n",
       "      <td>0.0237</td>\n",
       "      <td>0.000000</td>\n",
       "      <td>0.1140</td>\n",
       "      <td>0.1750</td>\n",
       "      <td>186.948</td>\n",
       "      <td>audio_features</td>\n",
       "      <td>123661</td>\n",
       "      <td>3</td>\n",
       "      <td>Dark Trap</td>\n",
       "      <td>ProductOfDrugs (Prod. The Virus and Antidote)</td>\n",
       "      <td>None</td>\n",
       "    </tr>\n",
       "    <tr>\n",
       "      <th>4</th>\n",
       "      <td>0.798</td>\n",
       "      <td>0.624</td>\n",
       "      <td>2</td>\n",
       "      <td>-7.668</td>\n",
       "      <td>1</td>\n",
       "      <td>0.2930</td>\n",
       "      <td>0.2170</td>\n",
       "      <td>0.000000</td>\n",
       "      <td>0.1660</td>\n",
       "      <td>0.5910</td>\n",
       "      <td>147.988</td>\n",
       "      <td>audio_features</td>\n",
       "      <td>123298</td>\n",
       "      <td>4</td>\n",
       "      <td>Dark Trap</td>\n",
       "      <td>Venom</td>\n",
       "      <td>None</td>\n",
       "    </tr>\n",
       "  </tbody>\n",
       "</table>\n",
       "</div>"
      ],
      "text/plain": [
       "   danceability  energy  key  loudness  mode  speechiness  acousticness  \\\n",
       "0         0.831   0.814    2    -7.364     1       0.4200        0.0598   \n",
       "1         0.719   0.493    8    -7.230     1       0.0794        0.4010   \n",
       "2         0.850   0.893    5       NaN     1       0.0623        0.0138   \n",
       "3         0.476   0.781    0    -4.710     1       0.1030        0.0237   \n",
       "4         0.798   0.624    2    -7.668     1       0.2930        0.2170   \n",
       "\n",
       "   instrumentalness  liveness  valence    tempo            type  duration_ms  \\\n",
       "0          0.013400    0.0556   0.3890  156.985  audio_features       124539   \n",
       "1          0.000000    0.1180   0.1240  115.080  audio_features       224427   \n",
       "2          0.000004    0.3720   0.0391  218.050  audio_features        98821   \n",
       "3          0.000000    0.1140   0.1750  186.948  audio_features       123661   \n",
       "4          0.000000    0.1660   0.5910  147.988  audio_features       123298   \n",
       "\n",
       "   time_signature      genre                                      song_name  \\\n",
       "0               4  Dark Trap                            Mercury: Retrograde   \n",
       "1               4  Dark Trap                                      Pathology   \n",
       "2               4  Dark Trap                                       Symbiote   \n",
       "3               3  Dark Trap  ProductOfDrugs (Prod. The Virus and Antidote)   \n",
       "4               4  Dark Trap                                          Venom   \n",
       "\n",
       "  title  \n",
       "0  None  \n",
       "1  None  \n",
       "2  None  \n",
       "3  None  \n",
       "4  None  "
      ]
     },
     "execution_count": 3,
     "metadata": {},
     "output_type": "execute_result"
    }
   ],
   "source": [
    "df.head()"
   ]
  },
  {
   "cell_type": "code",
   "execution_count": 10,
   "id": "8bf150f6",
   "metadata": {},
   "outputs": [
    {
     "name": "stdout",
     "output_type": "stream",
     "text": [
      "<class 'pandas.core.frame.DataFrame'>\n",
      "RangeIndex: 42896 entries, 0 to 42895\n",
      "Data columns (total 17 columns):\n",
      " #   Column            Non-Null Count  Dtype  \n",
      "---  ------            --------------  -----  \n",
      " 0   danceability      42896 non-null  float64\n",
      " 1   energy            42896 non-null  float64\n",
      " 2   key               42896 non-null  int64  \n",
      " 3   loudness          33726 non-null  float64\n",
      " 4   mode              42896 non-null  int64  \n",
      " 5   speechiness       42896 non-null  float64\n",
      " 6   acousticness      42896 non-null  float64\n",
      " 7   instrumentalness  42896 non-null  float64\n",
      " 8   liveness          42896 non-null  float64\n",
      " 9   valence           42896 non-null  float64\n",
      " 10  tempo             42896 non-null  float64\n",
      " 11  type              42896 non-null  object \n",
      " 12  duration_ms       42896 non-null  int64  \n",
      " 13  time_signature    42896 non-null  int64  \n",
      " 14  genre             42896 non-null  object \n",
      " 15  song_name         21811 non-null  object \n",
      " 16  title             21079 non-null  object \n",
      "dtypes: float64(9), int64(4), object(4)\n",
      "memory usage: 5.6+ MB\n"
     ]
    }
   ],
   "source": [
    "# Missing values in\n",
    "# - loudness\n",
    "# - song_name\n",
    "# - title (album?)\n",
    "df.info()s"
   ]
  },
  {
   "cell_type": "code",
   "execution_count": 6,
   "id": "56526698",
   "metadata": {},
   "outputs": [
    {
     "data": {
      "text/html": [
       "<div>\n",
       "<style scoped>\n",
       "    .dataframe tbody tr th:only-of-type {\n",
       "        vertical-align: middle;\n",
       "    }\n",
       "\n",
       "    .dataframe tbody tr th {\n",
       "        vertical-align: top;\n",
       "    }\n",
       "\n",
       "    .dataframe thead th {\n",
       "        text-align: right;\n",
       "    }\n",
       "</style>\n",
       "<table border=\"1\" class=\"dataframe\">\n",
       "  <thead>\n",
       "    <tr style=\"text-align: right;\">\n",
       "      <th></th>\n",
       "      <th>count</th>\n",
       "      <th>mean</th>\n",
       "      <th>std</th>\n",
       "      <th>min</th>\n",
       "      <th>25%</th>\n",
       "      <th>50%</th>\n",
       "      <th>75%</th>\n",
       "      <th>max</th>\n",
       "    </tr>\n",
       "  </thead>\n",
       "  <tbody>\n",
       "    <tr>\n",
       "      <th>danceability</th>\n",
       "      <td>42896.0</td>\n",
       "      <td>0.639336</td>\n",
       "      <td>0.156585</td>\n",
       "      <td>0.065100</td>\n",
       "      <td>0.52400</td>\n",
       "      <td>0.64600</td>\n",
       "      <td>0.7660</td>\n",
       "      <td>0.988</td>\n",
       "    </tr>\n",
       "    <tr>\n",
       "      <th>energy</th>\n",
       "      <td>42896.0</td>\n",
       "      <td>0.762560</td>\n",
       "      <td>0.183691</td>\n",
       "      <td>0.000243</td>\n",
       "      <td>0.63200</td>\n",
       "      <td>0.80300</td>\n",
       "      <td>0.9230</td>\n",
       "      <td>1.000</td>\n",
       "    </tr>\n",
       "    <tr>\n",
       "      <th>key</th>\n",
       "      <td>42896.0</td>\n",
       "      <td>5.368566</td>\n",
       "      <td>3.664993</td>\n",
       "      <td>0.000000</td>\n",
       "      <td>1.00000</td>\n",
       "      <td>6.00000</td>\n",
       "      <td>9.0000</td>\n",
       "      <td>11.000</td>\n",
       "    </tr>\n",
       "    <tr>\n",
       "      <th>loudness</th>\n",
       "      <td>33726.0</td>\n",
       "      <td>-6.463899</td>\n",
       "      <td>2.938171</td>\n",
       "      <td>-32.929000</td>\n",
       "      <td>-8.16500</td>\n",
       "      <td>-6.22850</td>\n",
       "      <td>-4.5200</td>\n",
       "      <td>3.148</td>\n",
       "    </tr>\n",
       "    <tr>\n",
       "      <th>mode</th>\n",
       "      <td>42896.0</td>\n",
       "      <td>0.549492</td>\n",
       "      <td>0.497550</td>\n",
       "      <td>0.000000</td>\n",
       "      <td>0.00000</td>\n",
       "      <td>1.00000</td>\n",
       "      <td>1.0000</td>\n",
       "      <td>1.000</td>\n",
       "    </tr>\n",
       "    <tr>\n",
       "      <th>speechiness</th>\n",
       "      <td>42896.0</td>\n",
       "      <td>0.136446</td>\n",
       "      <td>0.125976</td>\n",
       "      <td>0.022700</td>\n",
       "      <td>0.04910</td>\n",
       "      <td>0.07540</td>\n",
       "      <td>0.1930</td>\n",
       "      <td>0.946</td>\n",
       "    </tr>\n",
       "    <tr>\n",
       "      <th>acousticness</th>\n",
       "      <td>42896.0</td>\n",
       "      <td>0.096260</td>\n",
       "      <td>0.170843</td>\n",
       "      <td>0.000001</td>\n",
       "      <td>0.00173</td>\n",
       "      <td>0.01640</td>\n",
       "      <td>0.1070</td>\n",
       "      <td>0.988</td>\n",
       "    </tr>\n",
       "    <tr>\n",
       "      <th>instrumentalness</th>\n",
       "      <td>42896.0</td>\n",
       "      <td>0.283229</td>\n",
       "      <td>0.370810</td>\n",
       "      <td>0.000000</td>\n",
       "      <td>0.00000</td>\n",
       "      <td>0.00596</td>\n",
       "      <td>0.7220</td>\n",
       "      <td>0.989</td>\n",
       "    </tr>\n",
       "    <tr>\n",
       "      <th>liveness</th>\n",
       "      <td>42896.0</td>\n",
       "      <td>0.214080</td>\n",
       "      <td>0.175463</td>\n",
       "      <td>0.010700</td>\n",
       "      <td>0.09960</td>\n",
       "      <td>0.13500</td>\n",
       "      <td>0.2940</td>\n",
       "      <td>0.988</td>\n",
       "    </tr>\n",
       "    <tr>\n",
       "      <th>valence</th>\n",
       "      <td>42896.0</td>\n",
       "      <td>0.357170</td>\n",
       "      <td>0.233255</td>\n",
       "      <td>0.018700</td>\n",
       "      <td>0.16100</td>\n",
       "      <td>0.32200</td>\n",
       "      <td>0.5220</td>\n",
       "      <td>0.988</td>\n",
       "    </tr>\n",
       "    <tr>\n",
       "      <th>tempo</th>\n",
       "      <td>42896.0</td>\n",
       "      <td>147.492086</td>\n",
       "      <td>23.861654</td>\n",
       "      <td>57.967000</td>\n",
       "      <td>129.91875</td>\n",
       "      <td>144.97050</td>\n",
       "      <td>161.5975</td>\n",
       "      <td>220.290</td>\n",
       "    </tr>\n",
       "    <tr>\n",
       "      <th>duration_ms</th>\n",
       "      <td>42896.0</td>\n",
       "      <td>250913.573317</td>\n",
       "      <td>102979.762389</td>\n",
       "      <td>25600.000000</td>\n",
       "      <td>179971.25000</td>\n",
       "      <td>224663.00000</td>\n",
       "      <td>301288.5000</td>\n",
       "      <td>913052.000</td>\n",
       "    </tr>\n",
       "    <tr>\n",
       "      <th>time_signature</th>\n",
       "      <td>42896.0</td>\n",
       "      <td>3.972935</td>\n",
       "      <td>0.267682</td>\n",
       "      <td>1.000000</td>\n",
       "      <td>4.00000</td>\n",
       "      <td>4.00000</td>\n",
       "      <td>4.0000</td>\n",
       "      <td>5.000</td>\n",
       "    </tr>\n",
       "  </tbody>\n",
       "</table>\n",
       "</div>"
      ],
      "text/plain": [
       "                    count           mean            std           min  \\\n",
       "danceability      42896.0       0.639336       0.156585      0.065100   \n",
       "energy            42896.0       0.762560       0.183691      0.000243   \n",
       "key               42896.0       5.368566       3.664993      0.000000   \n",
       "loudness          33726.0      -6.463899       2.938171    -32.929000   \n",
       "mode              42896.0       0.549492       0.497550      0.000000   \n",
       "speechiness       42896.0       0.136446       0.125976      0.022700   \n",
       "acousticness      42896.0       0.096260       0.170843      0.000001   \n",
       "instrumentalness  42896.0       0.283229       0.370810      0.000000   \n",
       "liveness          42896.0       0.214080       0.175463      0.010700   \n",
       "valence           42896.0       0.357170       0.233255      0.018700   \n",
       "tempo             42896.0     147.492086      23.861654     57.967000   \n",
       "duration_ms       42896.0  250913.573317  102979.762389  25600.000000   \n",
       "time_signature    42896.0       3.972935       0.267682      1.000000   \n",
       "\n",
       "                           25%           50%          75%         max  \n",
       "danceability           0.52400       0.64600       0.7660       0.988  \n",
       "energy                 0.63200       0.80300       0.9230       1.000  \n",
       "key                    1.00000       6.00000       9.0000      11.000  \n",
       "loudness              -8.16500      -6.22850      -4.5200       3.148  \n",
       "mode                   0.00000       1.00000       1.0000       1.000  \n",
       "speechiness            0.04910       0.07540       0.1930       0.946  \n",
       "acousticness           0.00173       0.01640       0.1070       0.988  \n",
       "instrumentalness       0.00000       0.00596       0.7220       0.989  \n",
       "liveness               0.09960       0.13500       0.2940       0.988  \n",
       "valence                0.16100       0.32200       0.5220       0.988  \n",
       "tempo                129.91875     144.97050     161.5975     220.290  \n",
       "duration_ms       179971.25000  224663.00000  301288.5000  913052.000  \n",
       "time_signature         4.00000       4.00000       4.0000       5.000  "
      ]
     },
     "execution_count": 6,
     "metadata": {},
     "output_type": "execute_result"
    }
   ],
   "source": [
    "df.describe().T"
   ]
  },
  {
   "cell_type": "code",
   "execution_count": 8,
   "id": "7ee98166",
   "metadata": {},
   "outputs": [
    {
     "data": {
      "text/plain": [
       "<matplotlib.axes._subplots.AxesSubplot at 0x7fe6880477f0>"
      ]
     },
     "execution_count": 8,
     "metadata": {},
     "output_type": "execute_result"
    },
    {
     "data": {
      "image/png": "[encoded data removed]",
      "text/plain": [
       "<Figure size 640x480 with 1 Axes>"
      ]
     },
     "metadata": {},
     "output_type": "display_data"
    }
   ],
   "source": [
    "df['genre'].value_counts().plot(kind='bar')"
   ]
  },
  {
   "cell_type": "code",
   "execution_count": 14,
   "id": "c5b176fd",
   "metadata": {},
   "outputs": [
    {
     "data": {
      "text/plain": [
       "0                                  Mercury: Retrograde\n",
       "1                                            Pathology\n",
       "2                                             Symbiote\n",
       "3        ProductOfDrugs (Prod. The Virus and Antidote)\n",
       "4                                                Venom\n",
       "                             ...                      \n",
       "42891                                       Bang Bros!\n",
       "42892                                             None\n",
       "42893                                             None\n",
       "42894                               Southern Hostility\n",
       "42895                                             None\n",
       "Name: song_name, Length: 42896, dtype: object"
      ]
     },
     "execution_count": 14,
     "metadata": {},
     "output_type": "execute_result"
    }
   ],
   "source": [
    "df['song_name']"
   ]
  },
  {
   "cell_type": "code",
   "execution_count": 13,
   "id": "7e3d7bf4",
   "metadata": {},
   "outputs": [
    {
     "data": {
      "text/plain": [
       "<matplotlib.axes._subplots.AxesSubplot at 0x7fe6a0cfabb0>"
      ]
     },
     "execution_count": 13,
     "metadata": {},
     "output_type": "execute_result"
    },
    {
     "data": {
      "image/png": "[encoded data removed]",
      "text/plain": [
       "<Figure size 640x480 with 1 Axes>"
      ]
     },
     "metadata": {},
     "output_type": "display_data"
    }
   ],
   "source": [
    "df['loudness'].plot(kind='hist')"
   ]
  },
  {
   "cell_type": "markdown",
   "id": "90ed5f66",
   "metadata": {},
   "source": [
    "## 2. Preprocessing: Basic Cleaning and Feature Engineering"
   ]
  },
  {
   "cell_type": "markdown",
   "id": "1ad9ac50",
   "metadata": {},
   "source": [
    "This basic preprocessing should not include anything sophisticated nor anything that should be applied to new incoming datapoints; those transformations should go into the processing part of the inference pipeline."
   ]
  },
  {
   "cell_type": "code",
   "execution_count": 15,
   "id": "5d8b2d2d",
   "metadata": {},
   "outputs": [],
   "source": [
    "# Remove duplicates\n",
    "df = df.drop_duplicates().reset_index(drop=True)"
   ]
  },
  {
   "cell_type": "code",
   "execution_count": 17,
   "id": "f5f20418",
   "metadata": {},
   "outputs": [],
   "source": [
    "# A minimal feature engineering step: a new feature = song name + title\n",
    "df['title'].fillna(value='', inplace=True)\n",
    "df['song_name'].fillna(value='', inplace=True)\n",
    "df['text_feature'] = df['title'] + ' ' + df['song_name']"
   ]
  },
  {
   "cell_type": "code",
   "execution_count": null,
   "id": "19f37c1c",
   "metadata": {},
   "outputs": [],
   "source": []
  },
  {
   "cell_type": "code",
   "execution_count": null,
   "id": "4c7fa43d",
   "metadata": {},
   "outputs": [],
   "source": []
  }
 ],
 "metadata": {
  "kernelspec": {
   "display_name": "Python 3 (ipykernel)",
   "language": "python",
   "name": "python3"
  },
  "language_info": {
   "codemirror_mode": {
    "name": "ipython",
    "version": 3
   },
   "file_extension": ".py",
   "mimetype": "text/x-python",
   "name": "python",
   "nbconvert_exporter": "python",
   "pygments_lexer": "ipython3",
   "version": "3.8.13"
  }
 },
 "nbformat": 4,
 "nbformat_minor": 5
}
