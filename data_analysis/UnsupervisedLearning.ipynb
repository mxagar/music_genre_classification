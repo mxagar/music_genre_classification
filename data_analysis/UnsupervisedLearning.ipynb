{
 "cells": [
  {
   "cell_type": "markdown",
   "id": "ed45b73e",
   "metadata": {},
   "source": [
    "# Unsupervised Learning Modeling"
   ]
  },
  {
   "cell_type": "markdown",
   "id": "fd8db5a0",
   "metadata": {},
   "source": [
    "This notebook carries out basic unsupervised learning modeling of the [Dataset of songs in Spotify](https://www.kaggle.com/datasets/mrmorj/dataset-of-songs-in-spotify).\n",
    "\n",
    "Note that the present notebook is not tracked with Weights and Biases. To see how to track notebooks, have a look at [`EDA_Tracked.ipynb`](EDA_Tracked.ipynb).\n",
    "\n",
    "Table of contents:\n",
    "\n",
    "1. [Basic EDA](#1.-Basic-EDA)\n",
    "2. [Processing](#2.-Processing)\n",
    "    - [Impute `loudness` with KNN](#Impute-`loudness`-with-KNN)\n",
    "    - [Define Types of Columns](#Define-Types-of-Columns)\n",
    "    - [Encode Numericals: Transform if Skewed](#Encode-Numericals:-Transform-if-Skewed)\n",
    "    - [Encode Categoricals](#Encode-Categoricals)\n",
    "    - [Encode Text Features](#Encode-Text-Features)\n",
    "    - [Assemble All Columns and Scale](#Assemble-All-Columns-and-Scale)\n",
    "    - [Encode Targets](#Encode-Targets)\n",
    "3. [Clustering](#Clustering)\n"
   ]
  },
  {
   "cell_type": "markdown",
   "id": "53642116",
   "metadata": {},
   "source": [
    "## 1. Basic EDA"
   ]
  },
  {
   "cell_type": "code",
   "execution_count": 1,
   "id": "2d8417c7",
   "metadata": {},
   "outputs": [],
   "source": [
    "import sys\n",
    "import itertools"
   ]
  },
  {
   "cell_type": "code",
   "execution_count": 2,
   "id": "e825d4b2",
   "metadata": {},
   "outputs": [],
   "source": [
    "import numpy as np\n",
    "import pandas as pd\n",
    "import matplotlib.pyplot as plt\n",
    "import seaborn as sns"
   ]
  },
  {
   "cell_type": "code",
   "execution_count": 3,
   "id": "7f4f8a9d",
   "metadata": {},
   "outputs": [],
   "source": [
    "df = pd.read_parquet('../dataset/genres_mod.parquet')"
   ]
  },
  {
   "cell_type": "code",
   "execution_count": 4,
   "id": "014bccdd",
   "metadata": {},
   "outputs": [
    {
     "data": {
      "text/html": [
       "<div>\n",
       "<style scoped>\n",
       "    .dataframe tbody tr th:only-of-type {\n",
       "        vertical-align: middle;\n",
       "    }\n",
       "\n",
       "    .dataframe tbody tr th {\n",
       "        vertical-align: top;\n",
       "    }\n",
       "\n",
       "    .dataframe thead th {\n",
       "        text-align: right;\n",
       "    }\n",
       "</style>\n",
       "<table border=\"1\" class=\"dataframe\">\n",
       "  <thead>\n",
       "    <tr style=\"text-align: right;\">\n",
       "      <th></th>\n",
       "      <th>danceability</th>\n",
       "      <th>energy</th>\n",
       "      <th>key</th>\n",
       "      <th>loudness</th>\n",
       "      <th>mode</th>\n",
       "      <th>speechiness</th>\n",
       "      <th>acousticness</th>\n",
       "      <th>instrumentalness</th>\n",
       "      <th>liveness</th>\n",
       "      <th>valence</th>\n",
       "      <th>tempo</th>\n",
       "      <th>type</th>\n",
       "      <th>duration_ms</th>\n",
       "      <th>time_signature</th>\n",
       "      <th>genre</th>\n",
       "      <th>song_name</th>\n",
       "      <th>title</th>\n",
       "    </tr>\n",
       "  </thead>\n",
       "  <tbody>\n",
       "    <tr>\n",
       "      <th>0</th>\n",
       "      <td>0.831</td>\n",
       "      <td>0.814</td>\n",
       "      <td>2</td>\n",
       "      <td>-7.364</td>\n",
       "      <td>1</td>\n",
       "      <td>0.4200</td>\n",
       "      <td>0.0598</td>\n",
       "      <td>0.013400</td>\n",
       "      <td>0.0556</td>\n",
       "      <td>0.3890</td>\n",
       "      <td>156.985</td>\n",
       "      <td>audio_features</td>\n",
       "      <td>124539</td>\n",
       "      <td>4</td>\n",
       "      <td>Dark Trap</td>\n",
       "      <td>Mercury: Retrograde</td>\n",
       "      <td>None</td>\n",
       "    </tr>\n",
       "    <tr>\n",
       "      <th>1</th>\n",
       "      <td>0.719</td>\n",
       "      <td>0.493</td>\n",
       "      <td>8</td>\n",
       "      <td>-7.230</td>\n",
       "      <td>1</td>\n",
       "      <td>0.0794</td>\n",
       "      <td>0.4010</td>\n",
       "      <td>0.000000</td>\n",
       "      <td>0.1180</td>\n",
       "      <td>0.1240</td>\n",
       "      <td>115.080</td>\n",
       "      <td>audio_features</td>\n",
       "      <td>224427</td>\n",
       "      <td>4</td>\n",
       "      <td>Dark Trap</td>\n",
       "      <td>Pathology</td>\n",
       "      <td>None</td>\n",
       "    </tr>\n",
       "    <tr>\n",
       "      <th>2</th>\n",
       "      <td>0.850</td>\n",
       "      <td>0.893</td>\n",
       "      <td>5</td>\n",
       "      <td>NaN</td>\n",
       "      <td>1</td>\n",
       "      <td>0.0623</td>\n",
       "      <td>0.0138</td>\n",
       "      <td>0.000004</td>\n",
       "      <td>0.3720</td>\n",
       "      <td>0.0391</td>\n",
       "      <td>218.050</td>\n",
       "      <td>audio_features</td>\n",
       "      <td>98821</td>\n",
       "      <td>4</td>\n",
       "      <td>Dark Trap</td>\n",
       "      <td>Symbiote</td>\n",
       "      <td>None</td>\n",
       "    </tr>\n",
       "    <tr>\n",
       "      <th>3</th>\n",
       "      <td>0.476</td>\n",
       "      <td>0.781</td>\n",
       "      <td>0</td>\n",
       "      <td>-4.710</td>\n",
       "      <td>1</td>\n",
       "      <td>0.1030</td>\n",
       "      <td>0.0237</td>\n",
       "      <td>0.000000</td>\n",
       "      <td>0.1140</td>\n",
       "      <td>0.1750</td>\n",
       "      <td>186.948</td>\n",
       "      <td>audio_features</td>\n",
       "      <td>123661</td>\n",
       "      <td>3</td>\n",
       "      <td>Dark Trap</td>\n",
       "      <td>ProductOfDrugs (Prod. The Virus and Antidote)</td>\n",
       "      <td>None</td>\n",
       "    </tr>\n",
       "    <tr>\n",
       "      <th>4</th>\n",
       "      <td>0.798</td>\n",
       "      <td>0.624</td>\n",
       "      <td>2</td>\n",
       "      <td>-7.668</td>\n",
       "      <td>1</td>\n",
       "      <td>0.2930</td>\n",
       "      <td>0.2170</td>\n",
       "      <td>0.000000</td>\n",
       "      <td>0.1660</td>\n",
       "      <td>0.5910</td>\n",
       "      <td>147.988</td>\n",
       "      <td>audio_features</td>\n",
       "      <td>123298</td>\n",
       "      <td>4</td>\n",
       "      <td>Dark Trap</td>\n",
       "      <td>Venom</td>\n",
       "      <td>None</td>\n",
       "    </tr>\n",
       "  </tbody>\n",
       "</table>\n",
       "</div>"
      ],
      "text/plain": [
       "   danceability  energy  key  loudness  mode  speechiness  acousticness  \\\n",
       "0         0.831   0.814    2    -7.364     1       0.4200        0.0598   \n",
       "1         0.719   0.493    8    -7.230     1       0.0794        0.4010   \n",
       "2         0.850   0.893    5       NaN     1       0.0623        0.0138   \n",
       "3         0.476   0.781    0    -4.710     1       0.1030        0.0237   \n",
       "4         0.798   0.624    2    -7.668     1       0.2930        0.2170   \n",
       "\n",
       "   instrumentalness  liveness  valence    tempo            type  duration_ms  \\\n",
       "0          0.013400    0.0556   0.3890  156.985  audio_features       124539   \n",
       "1          0.000000    0.1180   0.1240  115.080  audio_features       224427   \n",
       "2          0.000004    0.3720   0.0391  218.050  audio_features        98821   \n",
       "3          0.000000    0.1140   0.1750  186.948  audio_features       123661   \n",
       "4          0.000000    0.1660   0.5910  147.988  audio_features       123298   \n",
       "\n",
       "   time_signature      genre                                      song_name  \\\n",
       "0               4  Dark Trap                            Mercury: Retrograde   \n",
       "1               4  Dark Trap                                      Pathology   \n",
       "2               4  Dark Trap                                       Symbiote   \n",
       "3               3  Dark Trap  ProductOfDrugs (Prod. The Virus and Antidote)   \n",
       "4               4  Dark Trap                                          Venom   \n",
       "\n",
       "  title  \n",
       "0  None  \n",
       "1  None  \n",
       "2  None  \n",
       "3  None  \n",
       "4  None  "
      ]
     },
     "execution_count": 4,
     "metadata": {},
     "output_type": "execute_result"
    }
   ],
   "source": [
    "df.head()"
   ]
  },
  {
   "cell_type": "code",
   "execution_count": 5,
   "id": "83c8ad95",
   "metadata": {},
   "outputs": [
    {
     "name": "stdout",
     "output_type": "stream",
     "text": [
      "<class 'pandas.core.frame.DataFrame'>\n",
      "RangeIndex: 42896 entries, 0 to 42895\n",
      "Data columns (total 17 columns):\n",
      " #   Column            Non-Null Count  Dtype  \n",
      "---  ------            --------------  -----  \n",
      " 0   danceability      42896 non-null  float64\n",
      " 1   energy            42896 non-null  float64\n",
      " 2   key               42896 non-null  int64  \n",
      " 3   loudness          33726 non-null  float64\n",
      " 4   mode              42896 non-null  int64  \n",
      " 5   speechiness       42896 non-null  float64\n",
      " 6   acousticness      42896 non-null  float64\n",
      " 7   instrumentalness  42896 non-null  float64\n",
      " 8   liveness          42896 non-null  float64\n",
      " 9   valence           42896 non-null  float64\n",
      " 10  tempo             42896 non-null  float64\n",
      " 11  type              42896 non-null  object \n",
      " 12  duration_ms       42896 non-null  int64  \n",
      " 13  time_signature    42896 non-null  int64  \n",
      " 14  genre             42896 non-null  object \n",
      " 15  song_name         21811 non-null  object \n",
      " 16  title             21079 non-null  object \n",
      "dtypes: float64(9), int64(4), object(4)\n",
      "memory usage: 5.6+ MB\n"
     ]
    }
   ],
   "source": [
    "# Missing values in\n",
    "# - loudness\n",
    "# - song_name\n",
    "# - title (album?)\n",
    "df.info()"
   ]
  },
  {
   "cell_type": "code",
   "execution_count": 6,
   "id": "458b0d7a",
   "metadata": {},
   "outputs": [
    {
     "data": {
      "text/html": [
       "<div>\n",
       "<style scoped>\n",
       "    .dataframe tbody tr th:only-of-type {\n",
       "        vertical-align: middle;\n",
       "    }\n",
       "\n",
       "    .dataframe tbody tr th {\n",
       "        vertical-align: top;\n",
       "    }\n",
       "\n",
       "    .dataframe thead th {\n",
       "        text-align: right;\n",
       "    }\n",
       "</style>\n",
       "<table border=\"1\" class=\"dataframe\">\n",
       "  <thead>\n",
       "    <tr style=\"text-align: right;\">\n",
       "      <th></th>\n",
       "      <th>count</th>\n",
       "      <th>mean</th>\n",
       "      <th>std</th>\n",
       "      <th>min</th>\n",
       "      <th>25%</th>\n",
       "      <th>50%</th>\n",
       "      <th>75%</th>\n",
       "      <th>max</th>\n",
       "    </tr>\n",
       "  </thead>\n",
       "  <tbody>\n",
       "    <tr>\n",
       "      <th>danceability</th>\n",
       "      <td>42896.0</td>\n",
       "      <td>0.639336</td>\n",
       "      <td>0.156585</td>\n",
       "      <td>0.065100</td>\n",
       "      <td>0.52400</td>\n",
       "      <td>0.64600</td>\n",
       "      <td>0.7660</td>\n",
       "      <td>0.988</td>\n",
       "    </tr>\n",
       "    <tr>\n",
       "      <th>energy</th>\n",
       "      <td>42896.0</td>\n",
       "      <td>0.762560</td>\n",
       "      <td>0.183691</td>\n",
       "      <td>0.000243</td>\n",
       "      <td>0.63200</td>\n",
       "      <td>0.80300</td>\n",
       "      <td>0.9230</td>\n",
       "      <td>1.000</td>\n",
       "    </tr>\n",
       "    <tr>\n",
       "      <th>key</th>\n",
       "      <td>42896.0</td>\n",
       "      <td>5.368566</td>\n",
       "      <td>3.664993</td>\n",
       "      <td>0.000000</td>\n",
       "      <td>1.00000</td>\n",
       "      <td>6.00000</td>\n",
       "      <td>9.0000</td>\n",
       "      <td>11.000</td>\n",
       "    </tr>\n",
       "    <tr>\n",
       "      <th>loudness</th>\n",
       "      <td>33726.0</td>\n",
       "      <td>-6.463899</td>\n",
       "      <td>2.938171</td>\n",
       "      <td>-32.929000</td>\n",
       "      <td>-8.16500</td>\n",
       "      <td>-6.22850</td>\n",
       "      <td>-4.5200</td>\n",
       "      <td>3.148</td>\n",
       "    </tr>\n",
       "    <tr>\n",
       "      <th>mode</th>\n",
       "      <td>42896.0</td>\n",
       "      <td>0.549492</td>\n",
       "      <td>0.497550</td>\n",
       "      <td>0.000000</td>\n",
       "      <td>0.00000</td>\n",
       "      <td>1.00000</td>\n",
       "      <td>1.0000</td>\n",
       "      <td>1.000</td>\n",
       "    </tr>\n",
       "    <tr>\n",
       "      <th>speechiness</th>\n",
       "      <td>42896.0</td>\n",
       "      <td>0.136446</td>\n",
       "      <td>0.125976</td>\n",
       "      <td>0.022700</td>\n",
       "      <td>0.04910</td>\n",
       "      <td>0.07540</td>\n",
       "      <td>0.1930</td>\n",
       "      <td>0.946</td>\n",
       "    </tr>\n",
       "    <tr>\n",
       "      <th>acousticness</th>\n",
       "      <td>42896.0</td>\n",
       "      <td>0.096260</td>\n",
       "      <td>0.170843</td>\n",
       "      <td>0.000001</td>\n",
       "      <td>0.00173</td>\n",
       "      <td>0.01640</td>\n",
       "      <td>0.1070</td>\n",
       "      <td>0.988</td>\n",
       "    </tr>\n",
       "    <tr>\n",
       "      <th>instrumentalness</th>\n",
       "      <td>42896.0</td>\n",
       "      <td>0.283229</td>\n",
       "      <td>0.370810</td>\n",
       "      <td>0.000000</td>\n",
       "      <td>0.00000</td>\n",
       "      <td>0.00596</td>\n",
       "      <td>0.7220</td>\n",
       "      <td>0.989</td>\n",
       "    </tr>\n",
       "    <tr>\n",
       "      <th>liveness</th>\n",
       "      <td>42896.0</td>\n",
       "      <td>0.214080</td>\n",
       "      <td>0.175463</td>\n",
       "      <td>0.010700</td>\n",
       "      <td>0.09960</td>\n",
       "      <td>0.13500</td>\n",
       "      <td>0.2940</td>\n",
       "      <td>0.988</td>\n",
       "    </tr>\n",
       "    <tr>\n",
       "      <th>valence</th>\n",
       "      <td>42896.0</td>\n",
       "      <td>0.357170</td>\n",
       "      <td>0.233255</td>\n",
       "      <td>0.018700</td>\n",
       "      <td>0.16100</td>\n",
       "      <td>0.32200</td>\n",
       "      <td>0.5220</td>\n",
       "      <td>0.988</td>\n",
       "    </tr>\n",
       "    <tr>\n",
       "      <th>tempo</th>\n",
       "      <td>42896.0</td>\n",
       "      <td>147.492086</td>\n",
       "      <td>23.861654</td>\n",
       "      <td>57.967000</td>\n",
       "      <td>129.91875</td>\n",
       "      <td>144.97050</td>\n",
       "      <td>161.5975</td>\n",
       "      <td>220.290</td>\n",
       "    </tr>\n",
       "    <tr>\n",
       "      <th>duration_ms</th>\n",
       "      <td>42896.0</td>\n",
       "      <td>250913.573317</td>\n",
       "      <td>102979.762389</td>\n",
       "      <td>25600.000000</td>\n",
       "      <td>179971.25000</td>\n",
       "      <td>224663.00000</td>\n",
       "      <td>301288.5000</td>\n",
       "      <td>913052.000</td>\n",
       "    </tr>\n",
       "    <tr>\n",
       "      <th>time_signature</th>\n",
       "      <td>42896.0</td>\n",
       "      <td>3.972935</td>\n",
       "      <td>0.267682</td>\n",
       "      <td>1.000000</td>\n",
       "      <td>4.00000</td>\n",
       "      <td>4.00000</td>\n",
       "      <td>4.0000</td>\n",
       "      <td>5.000</td>\n",
       "    </tr>\n",
       "  </tbody>\n",
       "</table>\n",
       "</div>"
      ],
      "text/plain": [
       "                    count           mean            std           min  \\\n",
       "danceability      42896.0       0.639336       0.156585      0.065100   \n",
       "energy            42896.0       0.762560       0.183691      0.000243   \n",
       "key               42896.0       5.368566       3.664993      0.000000   \n",
       "loudness          33726.0      -6.463899       2.938171    -32.929000   \n",
       "mode              42896.0       0.549492       0.497550      0.000000   \n",
       "speechiness       42896.0       0.136446       0.125976      0.022700   \n",
       "acousticness      42896.0       0.096260       0.170843      0.000001   \n",
       "instrumentalness  42896.0       0.283229       0.370810      0.000000   \n",
       "liveness          42896.0       0.214080       0.175463      0.010700   \n",
       "valence           42896.0       0.357170       0.233255      0.018700   \n",
       "tempo             42896.0     147.492086      23.861654     57.967000   \n",
       "duration_ms       42896.0  250913.573317  102979.762389  25600.000000   \n",
       "time_signature    42896.0       3.972935       0.267682      1.000000   \n",
       "\n",
       "                           25%           50%          75%         max  \n",
       "danceability           0.52400       0.64600       0.7660       0.988  \n",
       "energy                 0.63200       0.80300       0.9230       1.000  \n",
       "key                    1.00000       6.00000       9.0000      11.000  \n",
       "loudness              -8.16500      -6.22850      -4.5200       3.148  \n",
       "mode                   0.00000       1.00000       1.0000       1.000  \n",
       "speechiness            0.04910       0.07540       0.1930       0.946  \n",
       "acousticness           0.00173       0.01640       0.1070       0.988  \n",
       "instrumentalness       0.00000       0.00596       0.7220       0.989  \n",
       "liveness               0.09960       0.13500       0.2940       0.988  \n",
       "valence                0.16100       0.32200       0.5220       0.988  \n",
       "tempo                129.91875     144.97050     161.5975     220.290  \n",
       "duration_ms       179971.25000  224663.00000  301288.5000  913052.000  \n",
       "time_signature         4.00000       4.00000       4.0000       5.000  "
      ]
     },
     "execution_count": 6,
     "metadata": {},
     "output_type": "execute_result"
    }
   ],
   "source": [
    "df.describe().T"
   ]
  },
  {
   "cell_type": "code",
   "execution_count": 7,
   "id": "fa2b97e6",
   "metadata": {},
   "outputs": [
    {
     "data": {
      "text/plain": [
       "<AxesSubplot:>"
      ]
     },
     "execution_count": 7,
     "metadata": {},
     "output_type": "execute_result"
    },
    {
     "data": {
      "image/png": "[encoded data removed]",
      "text/plain": [
       "<Figure size 432x288 with 1 Axes>"
      ]
     },
     "metadata": {
      "needs_background": "light"
     },
     "output_type": "display_data"
    }
   ],
   "source": [
    "df['genre'].value_counts().plot(kind='bar')"
   ]
  },
  {
   "cell_type": "code",
   "execution_count": 8,
   "id": "c6ca57c8",
   "metadata": {},
   "outputs": [
    {
     "data": {
      "text/plain": [
       "0                                  Mercury: Retrograde\n",
       "1                                            Pathology\n",
       "2                                             Symbiote\n",
       "3        ProductOfDrugs (Prod. The Virus and Antidote)\n",
       "4                                                Venom\n",
       "                             ...                      \n",
       "42891                                       Bang Bros!\n",
       "42892                                             None\n",
       "42893                                             None\n",
       "42894                               Southern Hostility\n",
       "42895                                             None\n",
       "Name: song_name, Length: 42896, dtype: object"
      ]
     },
     "execution_count": 8,
     "metadata": {},
     "output_type": "execute_result"
    }
   ],
   "source": [
    "df['song_name']"
   ]
  },
  {
   "cell_type": "code",
   "execution_count": 9,
   "id": "a97c51e0",
   "metadata": {},
   "outputs": [
    {
     "data": {
      "text/plain": [
       "<AxesSubplot:ylabel='Frequency'>"
      ]
     },
     "execution_count": 9,
     "metadata": {},
     "output_type": "execute_result"
    },
    {
     "data": {
      "image/png": "[encoded data removed]",
      "text/plain": [
       "<Figure size 432x288 with 1 Axes>"
      ]
     },
     "metadata": {
      "needs_background": "light"
     },
     "output_type": "display_data"
    }
   ],
   "source": [
    "df['loudness'].plot(kind='hist', bins=50)"
   ]
  },
  {
   "cell_type": "code",
   "execution_count": 10,
   "id": "5ac0b0e0",
   "metadata": {},
   "outputs": [
    {
     "data": {
      "text/plain": [
       "<AxesSubplot:>"
      ]
     },
     "execution_count": 10,
     "metadata": {},
     "output_type": "execute_result"
    },
    {
     "data": {
      "image/png": "[encoded data removed]",
      "text/plain": [
       "<Figure size 432x288 with 2 Axes>"
      ]
     },
     "metadata": {
      "needs_background": "light"
     },
     "output_type": "display_data"
    }
   ],
   "source": [
    "sns.heatmap(df.corr())"
   ]
  },
  {
   "cell_type": "code",
   "execution_count": 11,
   "id": "747b0b31",
   "metadata": {},
   "outputs": [
    {
     "data": {
      "text/plain": [
       "acousticness       -0.285024\n",
       "danceability       -0.215901\n",
       "instrumentalness   -0.193452\n",
       "duration_ms        -0.096771\n",
       "mode               -0.005488\n",
       "key                -0.004448\n",
       "time_signature      0.044419\n",
       "speechiness         0.049049\n",
       "valence             0.081257\n",
       "tempo               0.152138\n",
       "liveness            0.170606\n",
       "energy              0.603524\n",
       "loudness            1.000000\n",
       "Name: loudness, dtype: float64"
      ]
     },
     "execution_count": 11,
     "metadata": {},
     "output_type": "execute_result"
    }
   ],
   "source": [
    "# Loudness seems to be quite correlated\n",
    "# with some variables:\n",
    "# energy, liveliness, acousticness, daceablity, instrumentalness\n",
    "# It seems reasonable to use KNN to impute the missing values\n",
    "df.corr()['loudness'].sort_values()"
   ]
  },
  {
   "cell_type": "code",
   "execution_count": 12,
   "id": "3a227294",
   "metadata": {},
   "outputs": [
    {
     "data": {
      "text/plain": [
       "4    40999\n",
       "3     1227\n",
       "5      519\n",
       "1      151\n",
       "Name: time_signature, dtype: int64"
      ]
     },
     "execution_count": 12,
     "metadata": {},
     "output_type": "execute_result"
    }
   ],
   "source": [
    "df['time_signature'].value_counts()"
   ]
  },
  {
   "cell_type": "code",
   "execution_count": 13,
   "id": "d7a3fdc5",
   "metadata": {},
   "outputs": [
    {
     "data": {
      "text/plain": [
       "1     7641\n",
       "7     4332\n",
       "11    4197\n",
       "6     3767\n",
       "0     3520\n",
       "8     3405\n",
       "10    3294\n",
       "9     3293\n",
       "2     3093\n",
       "5     3047\n",
       "4     2397\n",
       "3      910\n",
       "Name: key, dtype: int64"
      ]
     },
     "execution_count": 13,
     "metadata": {},
     "output_type": "execute_result"
    }
   ],
   "source": [
    "df['key'].value_counts()"
   ]
  },
  {
   "cell_type": "code",
   "execution_count": 14,
   "id": "f8a5ddb9",
   "metadata": {},
   "outputs": [
    {
     "data": {
      "text/plain": [
       "1    23571\n",
       "0    19325\n",
       "Name: mode, dtype: int64"
      ]
     },
     "execution_count": 14,
     "metadata": {},
     "output_type": "execute_result"
    }
   ],
   "source": [
    "df['mode'].value_counts()"
   ]
  },
  {
   "cell_type": "code",
   "execution_count": 15,
   "id": "df0fb43e",
   "metadata": {},
   "outputs": [
    {
     "data": {
      "text/plain": [
       "array(['Dark Trap', 'Underground Rap', 'Trap Metal', 'Emo', 'Rap', 'RnB',\n",
       "       'Pop', 'Hiphop', 'techhouse', 'techno', 'trance', 'psytrance',\n",
       "       'trap', 'dnb', 'hardstyle'], dtype=object)"
      ]
     },
     "execution_count": 15,
     "metadata": {},
     "output_type": "execute_result"
    }
   ],
   "source": [
    "# Get all possible genres\n",
    "# Genre is the target variable in the dataset\n",
    "df['genre'].unique()"
   ]
  },
  {
   "cell_type": "code",
   "execution_count": 16,
   "id": "3bf859a8",
   "metadata": {},
   "outputs": [
    {
     "data": {
      "text/plain": [
       "audio_features    42896\n",
       "Name: type, dtype: int64"
      ]
     },
     "execution_count": 16,
     "metadata": {},
     "output_type": "execute_result"
    }
   ],
   "source": [
    "# All type fields are 'audio_features'\n",
    "df['type'].value_counts()"
   ]
  },
  {
   "cell_type": "markdown",
   "id": "deb58d58",
   "metadata": {},
   "source": [
    "## 2. Processing"
   ]
  },
  {
   "cell_type": "code",
   "execution_count": 17,
   "id": "399267e6",
   "metadata": {},
   "outputs": [],
   "source": [
    "# Remove duplicates\n",
    "df = df.drop_duplicates().reset_index(drop=True)"
   ]
  },
  {
   "cell_type": "code",
   "execution_count": 18,
   "id": "53198971",
   "metadata": {},
   "outputs": [],
   "source": [
    "# A minimal feature engineering step: a new feature = song name + title\n",
    "df['title'].fillna(value='', inplace=True)\n",
    "df['song_name'].fillna(value='', inplace=True)\n",
    "df['text_feature'] = df['title'] + ' ' + df['song_name']\n",
    "X = df.drop(['title', 'song_name', 'type'], axis=1)"
   ]
  },
  {
   "cell_type": "code",
   "execution_count": 19,
   "id": "64362a16",
   "metadata": {},
   "outputs": [
    {
     "name": "stdout",
     "output_type": "stream",
     "text": [
      "<class 'pandas.core.frame.DataFrame'>\n",
      "RangeIndex: 41975 entries, 0 to 41974\n",
      "Data columns (total 15 columns):\n",
      " #   Column            Non-Null Count  Dtype  \n",
      "---  ------            --------------  -----  \n",
      " 0   danceability      41975 non-null  float64\n",
      " 1   energy            41975 non-null  float64\n",
      " 2   key               41975 non-null  int64  \n",
      " 3   loudness          32968 non-null  float64\n",
      " 4   mode              41975 non-null  int64  \n",
      " 5   speechiness       41975 non-null  float64\n",
      " 6   acousticness      41975 non-null  float64\n",
      " 7   instrumentalness  41975 non-null  float64\n",
      " 8   liveness          41975 non-null  float64\n",
      " 9   valence           41975 non-null  float64\n",
      " 10  tempo             41975 non-null  float64\n",
      " 11  duration_ms       41975 non-null  int64  \n",
      " 12  time_signature    41975 non-null  int64  \n",
      " 13  genre             41975 non-null  object \n",
      " 14  text_feature      41975 non-null  object \n",
      "dtypes: float64(9), int64(4), object(2)\n",
      "memory usage: 4.8+ MB\n"
     ]
    }
   ],
   "source": [
    "# We can see that after merging title and song_name\n",
    "# the only feature with NAs remains to be loudness\n",
    "X.info()"
   ]
  },
  {
   "cell_type": "markdown",
   "id": "ddb7b7b7",
   "metadata": {},
   "source": [
    "### Impute `loudness` with KNN"
   ]
  },
  {
   "cell_type": "code",
   "execution_count": 20,
   "id": "b146042c",
   "metadata": {},
   "outputs": [],
   "source": [
    "# Remove original target and text\n",
    "X_tmp = X.drop(['text_feature', 'genre'], axis=1)"
   ]
  },
  {
   "cell_type": "code",
   "execution_count": 21,
   "id": "f4968c51",
   "metadata": {},
   "outputs": [],
   "source": [
    "# Encode whether loudness is available or not\n",
    "X_tmp['has_loudness'] = (X_tmp['loudness'].isna() == False)"
   ]
  },
  {
   "cell_type": "code",
   "execution_count": 22,
   "id": "6687e254",
   "metadata": {},
   "outputs": [],
   "source": [
    "# Get training samples\n",
    "X_train = X_tmp[X_tmp.has_loudness==True].drop(['loudness'], axis=1)\n",
    "y_train = X_tmp[X_tmp.has_loudness==True]['loudness']"
   ]
  },
  {
   "cell_type": "code",
   "execution_count": 23,
   "id": "cf466763",
   "metadata": {},
   "outputs": [],
   "source": [
    "from sklearn.preprocessing import MinMaxScaler\n",
    "\n",
    "# Scale numerical values\n",
    "scaler = MinMaxScaler()\n",
    "X_train_scaled = scaler.fit_transform(X_train) "
   ]
  },
  {
   "cell_type": "code",
   "execution_count": 24,
   "id": "e99ffe92",
   "metadata": {},
   "outputs": [],
   "source": [
    "from sklearn.model_selection import GridSearchCV\n",
    "from sklearn.neighbors import KNeighborsRegressor\n",
    "\n",
    "param_grid = {\n",
    "    'n_neighbors': [3, 5, 7],\n",
    "    'weights': ['uniform', 'distance'],\n",
    "    'p': [1, 2]\n",
    "}\n",
    "\n",
    "# Intantiate a KNN Regressor\n",
    "knnr = KNeighborsRegressor()\n",
    "\n",
    "# Grid search\n",
    "search = GridSearchCV(estimator=knnr,\n",
    "                      param_grid=param_grid,\n",
    "                      cv=5,\n",
    "                      scoring='neg_mean_squared_error')\n",
    "\n",
    "# Find best hyperparameters and best estimator pipeline\n",
    "search.fit(X_train_scaled, y_train)\n",
    "estimator = search.best_estimator_"
   ]
  },
  {
   "cell_type": "code",
   "execution_count": 25,
   "id": "900a4b5b",
   "metadata": {},
   "outputs": [
    {
     "data": {
      "text/plain": [
       "-4.779581678746105"
      ]
     },
     "execution_count": 25,
     "metadata": {},
     "output_type": "execute_result"
    }
   ],
   "source": [
    "search.best_score_"
   ]
  },
  {
   "cell_type": "code",
   "execution_count": 26,
   "id": "c6810822",
   "metadata": {},
   "outputs": [
    {
     "data": {
      "text/plain": [
       "{'n_neighbors': 7, 'p': 1, 'weights': 'distance'}"
      ]
     },
     "execution_count": 26,
     "metadata": {},
     "output_type": "execute_result"
    }
   ],
   "source": [
    "search.best_params_"
   ]
  },
  {
   "cell_type": "code",
   "execution_count": 27,
   "id": "0f80818e",
   "metadata": {},
   "outputs": [],
   "source": [
    "# Predict training target\n",
    "y_pred = estimator.predict(X_train_scaled)"
   ]
  },
  {
   "cell_type": "code",
   "execution_count": 28,
   "id": "2e1bd517",
   "metadata": {},
   "outputs": [
    {
     "data": {
      "text/plain": [
       "<matplotlib.collections.PathCollection at 0x7fd3a4cbeb90>"
      ]
     },
     "execution_count": 28,
     "metadata": {},
     "output_type": "execute_result"
    },
    {
     "data": {
      "image/png": "[encoded data removed]",
      "text/plain": [
       "<Figure size 288x288 with 1 Axes>"
      ]
     },
     "metadata": {
      "needs_background": "light"
     },
     "output_type": "display_data"
    }
   ],
   "source": [
    "# Plot real vs predicted in training set\n",
    "plt.figure(figsize=(4,4))\n",
    "plt.scatter(y_train, y_pred)"
   ]
  },
  {
   "cell_type": "code",
   "execution_count": 29,
   "id": "99cdeec3",
   "metadata": {},
   "outputs": [],
   "source": [
    "# Predict the missing loudness values\n",
    "X_missing = X_tmp[X_tmp.has_loudness==False].drop(['loudness'], axis=1)\n",
    "X_missing_scaled = scaler.transform(X_missing)\n",
    "y_missing = estimator.predict(X_missing_scaled)"
   ]
  },
  {
   "cell_type": "code",
   "execution_count": 30,
   "id": "58a5f40b",
   "metadata": {},
   "outputs": [
    {
     "data": {
      "image/png": "[encoded data removed]",
      "text/plain": [
       "<Figure size 432x288 with 1 Axes>"
      ]
     },
     "metadata": {
      "needs_background": "light"
     },
     "output_type": "display_data"
    }
   ],
   "source": [
    "# Plot the distributions\n",
    "# The seem to be quite \n",
    "sns.histplot(y_train, color='b', alpha=0.5)\n",
    "sns.histplot(y_missing, color='r', alpha=0.5)\n",
    "plt.show()"
   ]
  },
  {
   "cell_type": "code",
   "execution_count": 31,
   "id": "5aff1aec",
   "metadata": {},
   "outputs": [],
   "source": [
    "# Assemble the new dataset\n",
    "X.loc[X_tmp.has_loudness==False, 'loudness'] = y_missing"
   ]
  },
  {
   "cell_type": "code",
   "execution_count": 32,
   "id": "5cd56daf",
   "metadata": {},
   "outputs": [
    {
     "name": "stdout",
     "output_type": "stream",
     "text": [
      "<class 'pandas.core.frame.DataFrame'>\n",
      "RangeIndex: 41975 entries, 0 to 41974\n",
      "Data columns (total 15 columns):\n",
      " #   Column            Non-Null Count  Dtype  \n",
      "---  ------            --------------  -----  \n",
      " 0   danceability      41975 non-null  float64\n",
      " 1   energy            41975 non-null  float64\n",
      " 2   key               41975 non-null  int64  \n",
      " 3   loudness          41975 non-null  float64\n",
      " 4   mode              41975 non-null  int64  \n",
      " 5   speechiness       41975 non-null  float64\n",
      " 6   acousticness      41975 non-null  float64\n",
      " 7   instrumentalness  41975 non-null  float64\n",
      " 8   liveness          41975 non-null  float64\n",
      " 9   valence           41975 non-null  float64\n",
      " 10  tempo             41975 non-null  float64\n",
      " 11  duration_ms       41975 non-null  int64  \n",
      " 12  time_signature    41975 non-null  int64  \n",
      " 13  genre             41975 non-null  object \n",
      " 14  text_feature      41975 non-null  object \n",
      "dtypes: float64(9), int64(4), object(2)\n",
      "memory usage: 4.8+ MB\n"
     ]
    }
   ],
   "source": [
    "# Now, there are no missing values\n",
    "X.info()"
   ]
  },
  {
   "cell_type": "markdown",
   "id": "286731a8",
   "metadata": {},
   "source": [
    "### Define Types of Columns"
   ]
  },
  {
   "cell_type": "code",
   "execution_count": 33,
   "id": "322a038e",
   "metadata": {},
   "outputs": [],
   "source": [
    "numeric_features = sorted([\n",
    "    \"danceability\",\n",
    "    \"energy\",\n",
    "    \"loudness\",\n",
    "    \"speechiness\",\n",
    "    \"acousticness\",\n",
    "    \"instrumentalness\",\n",
    "    \"liveness\",\n",
    "    \"valence\",\n",
    "    \"tempo\",\n",
    "    \"duration_ms\"\n",
    "])\n",
    "\n",
    "categorical_features = sorted([\n",
    "    \"time_signature\",\n",
    "    \"key\"\n",
    "])\n",
    "\n",
    "binary_features = sorted([\n",
    "    \"mode\"\n",
    "])\n",
    "\n",
    "nlp_feature = \"text_feature\"\n",
    "\n",
    "target = \"genre\""
   ]
  },
  {
   "cell_type": "markdown",
   "id": "15b5838e",
   "metadata": {},
   "source": [
    "### Encode Numericals: Transform if Skewed"
   ]
  },
  {
   "cell_type": "markdown",
   "id": "ec63ac06",
   "metadata": {},
   "source": [
    "This transformation is not needed for all algorithms, but I do it just in case I try someting which requires it."
   ]
  },
  {
   "cell_type": "code",
   "execution_count": 34,
   "id": "20740bbc",
   "metadata": {},
   "outputs": [],
   "source": [
    "for col in numeric_features:\n",
    "    if np.abs(X[col].skew()) > 0.75:\n",
    "        X[col] = np.log1p(X[col])"
   ]
  },
  {
   "cell_type": "code",
   "execution_count": 35,
   "id": "000c7cfa",
   "metadata": {},
   "outputs": [
    {
     "data": {
      "image/png": "[encoded data removed]",
      "text/plain": [
       "<Figure size 432x288 with 1 Axes>"
      ]
     },
     "metadata": {
      "needs_background": "light"
     },
     "output_type": "display_data"
    },
    {
     "data": {
      "image/png": "[encoded data removed]",
      "text/plain": [
       "<Figure size 432x288 with 1 Axes>"
      ]
     },
     "metadata": {
      "needs_background": "light"
     },
     "output_type": "display_data"
    },
    {
     "data": {
      "image/png": "[encoded data removed]",
      "text/plain": [
       "<Figure size 432x288 with 1 Axes>"
      ]
     },
     "metadata": {
      "needs_background": "light"
     },
     "output_type": "display_data"
    },
    {
     "data": {
      "image/png": "[encoded data removed]",
      "text/plain": [
       "<Figure size 432x288 with 1 Axes>"
      ]
     },
     "metadata": {
      "needs_background": "light"
     },
     "output_type": "display_data"
    },
    {
     "data": {
      "image/png": "[encoded data removed]",
      "text/plain": [
       "<Figure size 432x288 with 1 Axes>"
      ]
     },
     "metadata": {
      "needs_background": "light"
     },
     "output_type": "display_data"
    },
    {
     "data": {
      "image/png": "[encoded data removed]",
      "text/plain": [
       "<Figure size 432x288 with 1 Axes>"
      ]
     },
     "metadata": {
      "needs_background": "light"
     },
     "output_type": "display_data"
    },
    {
     "data": {
      "image/png": "[encoded data removed]",
      "text/plain": [
       "<Figure size 432x288 with 1 Axes>"
      ]
     },
     "metadata": {
      "needs_background": "light"
     },
     "output_type": "display_data"
    },
    {
     "data": {
      "image/png": "[encoded data removed]",
      "text/plain": [
       "<Figure size 432x288 with 1 Axes>"
      ]
     },
     "metadata": {
      "needs_background": "light"
     },
     "output_type": "display_data"
    },
    {
     "data": {
      "image/png": "[encoded data removed]",
      "text/plain": [
       "<Figure size 432x288 with 1 Axes>"
      ]
     },
     "metadata": {
      "needs_background": "light"
     },
     "output_type": "display_data"
    },
    {
     "data": {
      "image/png": "[encoded data removed]",
      "text/plain": [
       "<Figure size 432x288 with 1 Axes>"
      ]
     },
     "metadata": {
      "needs_background": "light"
     },
     "output_type": "display_data"
    }
   ],
   "source": [
    "for col in numeric_features:\n",
    "    sns.histplot(X[col])\n",
    "    plt.show()"
   ]
  },
  {
   "cell_type": "markdown",
   "id": "738a9f18",
   "metadata": {},
   "source": [
    "### Encode Categoricals"
   ]
  },
  {
   "cell_type": "code",
   "execution_count": 36,
   "id": "4025715b",
   "metadata": {},
   "outputs": [],
   "source": [
    "from sklearn.preprocessing import OrdinalEncoder\n",
    "ordinal_encoders = dict()\n",
    "for col in categorical_features:\n",
    "    oe = OrdinalEncoder()\n",
    "    X[col] = oe.fit_transform(X[col].values.reshape(-1, 1))\n",
    "    ordinal_encoders[col] = oe"
   ]
  },
  {
   "cell_type": "markdown",
   "id": "344a5717",
   "metadata": {},
   "source": [
    "### Encode Text Features"
   ]
  },
  {
   "cell_type": "code",
   "execution_count": 46,
   "id": "409d3df8",
   "metadata": {},
   "outputs": [],
   "source": [
    "import re\n",
    "from sklearn.feature_extraction.text import CountVectorizer, TfidfVectorizer"
   ]
  },
  {
   "cell_type": "code",
   "execution_count": 47,
   "id": "21c59c10",
   "metadata": {},
   "outputs": [],
   "source": [
    "# Distirbution of text_feature word counts\n",
    "lengths = [len(field[0].split(' ')) for field in X[[nlp_feature]].values]"
   ]
  },
  {
   "cell_type": "code",
   "execution_count": 48,
   "id": "1667736c",
   "metadata": {},
   "outputs": [
    {
     "data": {
      "text/plain": [
       "<AxesSubplot:ylabel='Count'>"
      ]
     },
     "execution_count": 48,
     "metadata": {},
     "output_type": "execute_result"
    },
    {
     "data": {
      "image/png": "[encoded data removed]",
      "text/plain": [
       "<Figure size 432x288 with 1 Axes>"
      ]
     },
     "metadata": {
      "needs_background": "light"
     },
     "output_type": "display_data"
    }
   ],
   "source": [
    "sns.histplot(lengths,bins=20)"
   ]
  },
  {
   "cell_type": "code",
   "execution_count": 49,
   "id": "23491d66",
   "metadata": {},
   "outputs": [],
   "source": [
    "# Custom text processing function\n",
    "def preprocess_text(text):\n",
    "    text = text.lower()\n",
    "    # Remove all digits \n",
    "    text = re.sub(r'\\d+', '', text)\n",
    "    return text"
   ]
  },
  {
   "cell_type": "code",
   "execution_count": 50,
   "id": "359d3d06",
   "metadata": {},
   "outputs": [],
   "source": [
    "# TF-IDF\n",
    "tfidf = TfidfVectorizer(max_features = 500, preprocessor = preprocess_text)\n",
    "tfidf_mat = tfidf.fit_transform(X[nlp_feature])\n",
    "# Convert to a dataframe\n",
    "# TfidfVectorizer normalizes each row to length 1\n",
    "tfidf_df = pd.DataFrame(tfidf_mat.toarray(), columns = tfidf.get_feature_names_out())\n",
    "# 1586 rows × 500 columns"
   ]
  },
  {
   "cell_type": "code",
   "execution_count": 51,
   "id": "de80774a",
   "metadata": {},
   "outputs": [
    {
     "data": {
      "text/html": [
       "<div>\n",
       "<style scoped>\n",
       "    .dataframe tbody tr th:only-of-type {\n",
       "        vertical-align: middle;\n",
       "    }\n",
       "\n",
       "    .dataframe tbody tr th {\n",
       "        vertical-align: top;\n",
       "    }\n",
       "\n",
       "    .dataframe thead th {\n",
       "        text-align: right;\n",
       "    }\n",
       "</style>\n",
       "<table border=\"1\" class=\"dataframe\">\n",
       "  <thead>\n",
       "    <tr style=\"text-align: right;\">\n",
       "      <th></th>\n",
       "      <th>about</th>\n",
       "      <th>acid</th>\n",
       "      <th>again</th>\n",
       "      <th>ain</th>\n",
       "      <th>album</th>\n",
       "      <th>alive</th>\n",
       "      <th>all</th>\n",
       "      <th>alone</th>\n",
       "      <th>am</th>\n",
       "      <th>and</th>\n",
       "      <th>...</th>\n",
       "      <th>ya</th>\n",
       "      <th>yachty</th>\n",
       "      <th>year</th>\n",
       "      <th>yg</th>\n",
       "      <th>yo</th>\n",
       "      <th>you</th>\n",
       "      <th>young</th>\n",
       "      <th>your</th>\n",
       "      <th>yourself</th>\n",
       "      <th>yung</th>\n",
       "    </tr>\n",
       "  </thead>\n",
       "  <tbody>\n",
       "    <tr>\n",
       "      <th>0</th>\n",
       "      <td>0.0</td>\n",
       "      <td>0.0</td>\n",
       "      <td>0.0</td>\n",
       "      <td>0.0</td>\n",
       "      <td>0.0</td>\n",
       "      <td>0.0</td>\n",
       "      <td>0.0</td>\n",
       "      <td>0.0</td>\n",
       "      <td>0.0</td>\n",
       "      <td>0.000000</td>\n",
       "      <td>...</td>\n",
       "      <td>0.0</td>\n",
       "      <td>0.0</td>\n",
       "      <td>0.0</td>\n",
       "      <td>0.0</td>\n",
       "      <td>0.0</td>\n",
       "      <td>0.0</td>\n",
       "      <td>0.0</td>\n",
       "      <td>0.0</td>\n",
       "      <td>0.0</td>\n",
       "      <td>0.0</td>\n",
       "    </tr>\n",
       "    <tr>\n",
       "      <th>1</th>\n",
       "      <td>0.0</td>\n",
       "      <td>0.0</td>\n",
       "      <td>0.0</td>\n",
       "      <td>0.0</td>\n",
       "      <td>0.0</td>\n",
       "      <td>0.0</td>\n",
       "      <td>0.0</td>\n",
       "      <td>0.0</td>\n",
       "      <td>0.0</td>\n",
       "      <td>0.000000</td>\n",
       "      <td>...</td>\n",
       "      <td>0.0</td>\n",
       "      <td>0.0</td>\n",
       "      <td>0.0</td>\n",
       "      <td>0.0</td>\n",
       "      <td>0.0</td>\n",
       "      <td>0.0</td>\n",
       "      <td>0.0</td>\n",
       "      <td>0.0</td>\n",
       "      <td>0.0</td>\n",
       "      <td>0.0</td>\n",
       "    </tr>\n",
       "    <tr>\n",
       "      <th>2</th>\n",
       "      <td>0.0</td>\n",
       "      <td>0.0</td>\n",
       "      <td>0.0</td>\n",
       "      <td>0.0</td>\n",
       "      <td>0.0</td>\n",
       "      <td>0.0</td>\n",
       "      <td>0.0</td>\n",
       "      <td>0.0</td>\n",
       "      <td>0.0</td>\n",
       "      <td>0.000000</td>\n",
       "      <td>...</td>\n",
       "      <td>0.0</td>\n",
       "      <td>0.0</td>\n",
       "      <td>0.0</td>\n",
       "      <td>0.0</td>\n",
       "      <td>0.0</td>\n",
       "      <td>0.0</td>\n",
       "      <td>0.0</td>\n",
       "      <td>0.0</td>\n",
       "      <td>0.0</td>\n",
       "      <td>0.0</td>\n",
       "    </tr>\n",
       "    <tr>\n",
       "      <th>3</th>\n",
       "      <td>0.0</td>\n",
       "      <td>0.0</td>\n",
       "      <td>0.0</td>\n",
       "      <td>0.0</td>\n",
       "      <td>0.0</td>\n",
       "      <td>0.0</td>\n",
       "      <td>0.0</td>\n",
       "      <td>0.0</td>\n",
       "      <td>0.0</td>\n",
       "      <td>0.360798</td>\n",
       "      <td>...</td>\n",
       "      <td>0.0</td>\n",
       "      <td>0.0</td>\n",
       "      <td>0.0</td>\n",
       "      <td>0.0</td>\n",
       "      <td>0.0</td>\n",
       "      <td>0.0</td>\n",
       "      <td>0.0</td>\n",
       "      <td>0.0</td>\n",
       "      <td>0.0</td>\n",
       "      <td>0.0</td>\n",
       "    </tr>\n",
       "    <tr>\n",
       "      <th>4</th>\n",
       "      <td>0.0</td>\n",
       "      <td>0.0</td>\n",
       "      <td>0.0</td>\n",
       "      <td>0.0</td>\n",
       "      <td>0.0</td>\n",
       "      <td>0.0</td>\n",
       "      <td>0.0</td>\n",
       "      <td>0.0</td>\n",
       "      <td>0.0</td>\n",
       "      <td>0.000000</td>\n",
       "      <td>...</td>\n",
       "      <td>0.0</td>\n",
       "      <td>0.0</td>\n",
       "      <td>0.0</td>\n",
       "      <td>0.0</td>\n",
       "      <td>0.0</td>\n",
       "      <td>0.0</td>\n",
       "      <td>0.0</td>\n",
       "      <td>0.0</td>\n",
       "      <td>0.0</td>\n",
       "      <td>0.0</td>\n",
       "    </tr>\n",
       "    <tr>\n",
       "      <th>...</th>\n",
       "      <td>...</td>\n",
       "      <td>...</td>\n",
       "      <td>...</td>\n",
       "      <td>...</td>\n",
       "      <td>...</td>\n",
       "      <td>...</td>\n",
       "      <td>...</td>\n",
       "      <td>...</td>\n",
       "      <td>...</td>\n",
       "      <td>...</td>\n",
       "      <td>...</td>\n",
       "      <td>...</td>\n",
       "      <td>...</td>\n",
       "      <td>...</td>\n",
       "      <td>...</td>\n",
       "      <td>...</td>\n",
       "      <td>...</td>\n",
       "      <td>...</td>\n",
       "      <td>...</td>\n",
       "      <td>...</td>\n",
       "      <td>...</td>\n",
       "    </tr>\n",
       "    <tr>\n",
       "      <th>41970</th>\n",
       "      <td>0.0</td>\n",
       "      <td>0.0</td>\n",
       "      <td>0.0</td>\n",
       "      <td>0.0</td>\n",
       "      <td>0.0</td>\n",
       "      <td>0.0</td>\n",
       "      <td>0.0</td>\n",
       "      <td>0.0</td>\n",
       "      <td>0.0</td>\n",
       "      <td>0.000000</td>\n",
       "      <td>...</td>\n",
       "      <td>0.0</td>\n",
       "      <td>0.0</td>\n",
       "      <td>0.0</td>\n",
       "      <td>0.0</td>\n",
       "      <td>0.0</td>\n",
       "      <td>0.0</td>\n",
       "      <td>0.0</td>\n",
       "      <td>0.0</td>\n",
       "      <td>0.0</td>\n",
       "      <td>0.0</td>\n",
       "    </tr>\n",
       "    <tr>\n",
       "      <th>41971</th>\n",
       "      <td>0.0</td>\n",
       "      <td>0.0</td>\n",
       "      <td>0.0</td>\n",
       "      <td>0.0</td>\n",
       "      <td>0.0</td>\n",
       "      <td>0.0</td>\n",
       "      <td>0.0</td>\n",
       "      <td>0.0</td>\n",
       "      <td>0.0</td>\n",
       "      <td>0.000000</td>\n",
       "      <td>...</td>\n",
       "      <td>0.0</td>\n",
       "      <td>0.0</td>\n",
       "      <td>0.0</td>\n",
       "      <td>0.0</td>\n",
       "      <td>0.0</td>\n",
       "      <td>0.0</td>\n",
       "      <td>0.0</td>\n",
       "      <td>0.0</td>\n",
       "      <td>0.0</td>\n",
       "      <td>0.0</td>\n",
       "    </tr>\n",
       "    <tr>\n",
       "      <th>41972</th>\n",
       "      <td>0.0</td>\n",
       "      <td>0.0</td>\n",
       "      <td>0.0</td>\n",
       "      <td>0.0</td>\n",
       "      <td>0.0</td>\n",
       "      <td>0.0</td>\n",
       "      <td>0.0</td>\n",
       "      <td>0.0</td>\n",
       "      <td>0.0</td>\n",
       "      <td>0.000000</td>\n",
       "      <td>...</td>\n",
       "      <td>0.0</td>\n",
       "      <td>0.0</td>\n",
       "      <td>0.0</td>\n",
       "      <td>0.0</td>\n",
       "      <td>0.0</td>\n",
       "      <td>0.0</td>\n",
       "      <td>0.0</td>\n",
       "      <td>0.0</td>\n",
       "      <td>0.0</td>\n",
       "      <td>0.0</td>\n",
       "    </tr>\n",
       "    <tr>\n",
       "      <th>41973</th>\n",
       "      <td>0.0</td>\n",
       "      <td>0.0</td>\n",
       "      <td>0.0</td>\n",
       "      <td>0.0</td>\n",
       "      <td>0.0</td>\n",
       "      <td>0.0</td>\n",
       "      <td>0.0</td>\n",
       "      <td>0.0</td>\n",
       "      <td>0.0</td>\n",
       "      <td>0.000000</td>\n",
       "      <td>...</td>\n",
       "      <td>0.0</td>\n",
       "      <td>0.0</td>\n",
       "      <td>0.0</td>\n",
       "      <td>0.0</td>\n",
       "      <td>0.0</td>\n",
       "      <td>0.0</td>\n",
       "      <td>0.0</td>\n",
       "      <td>0.0</td>\n",
       "      <td>0.0</td>\n",
       "      <td>0.0</td>\n",
       "    </tr>\n",
       "    <tr>\n",
       "      <th>41974</th>\n",
       "      <td>0.0</td>\n",
       "      <td>0.0</td>\n",
       "      <td>0.0</td>\n",
       "      <td>0.0</td>\n",
       "      <td>0.0</td>\n",
       "      <td>0.0</td>\n",
       "      <td>0.0</td>\n",
       "      <td>0.0</td>\n",
       "      <td>0.0</td>\n",
       "      <td>0.000000</td>\n",
       "      <td>...</td>\n",
       "      <td>0.0</td>\n",
       "      <td>0.0</td>\n",
       "      <td>0.0</td>\n",
       "      <td>0.0</td>\n",
       "      <td>0.0</td>\n",
       "      <td>0.0</td>\n",
       "      <td>0.0</td>\n",
       "      <td>0.0</td>\n",
       "      <td>0.0</td>\n",
       "      <td>0.0</td>\n",
       "    </tr>\n",
       "  </tbody>\n",
       "</table>\n",
       "<p>41975 rows × 500 columns</p>\n",
       "</div>"
      ],
      "text/plain": [
       "       about  acid  again  ain  album  alive  all  alone   am       and  ...  \\\n",
       "0        0.0   0.0    0.0  0.0    0.0    0.0  0.0    0.0  0.0  0.000000  ...   \n",
       "1        0.0   0.0    0.0  0.0    0.0    0.0  0.0    0.0  0.0  0.000000  ...   \n",
       "2        0.0   0.0    0.0  0.0    0.0    0.0  0.0    0.0  0.0  0.000000  ...   \n",
       "3        0.0   0.0    0.0  0.0    0.0    0.0  0.0    0.0  0.0  0.360798  ...   \n",
       "4        0.0   0.0    0.0  0.0    0.0    0.0  0.0    0.0  0.0  0.000000  ...   \n",
       "...      ...   ...    ...  ...    ...    ...  ...    ...  ...       ...  ...   \n",
       "41970    0.0   0.0    0.0  0.0    0.0    0.0  0.0    0.0  0.0  0.000000  ...   \n",
       "41971    0.0   0.0    0.0  0.0    0.0    0.0  0.0    0.0  0.0  0.000000  ...   \n",
       "41972    0.0   0.0    0.0  0.0    0.0    0.0  0.0    0.0  0.0  0.000000  ...   \n",
       "41973    0.0   0.0    0.0  0.0    0.0    0.0  0.0    0.0  0.0  0.000000  ...   \n",
       "41974    0.0   0.0    0.0  0.0    0.0    0.0  0.0    0.0  0.0  0.000000  ...   \n",
       "\n",
       "        ya  yachty  year   yg   yo  you  young  your  yourself  yung  \n",
       "0      0.0     0.0   0.0  0.0  0.0  0.0    0.0   0.0       0.0   0.0  \n",
       "1      0.0     0.0   0.0  0.0  0.0  0.0    0.0   0.0       0.0   0.0  \n",
       "2      0.0     0.0   0.0  0.0  0.0  0.0    0.0   0.0       0.0   0.0  \n",
       "3      0.0     0.0   0.0  0.0  0.0  0.0    0.0   0.0       0.0   0.0  \n",
       "4      0.0     0.0   0.0  0.0  0.0  0.0    0.0   0.0       0.0   0.0  \n",
       "...    ...     ...   ...  ...  ...  ...    ...   ...       ...   ...  \n",
       "41970  0.0     0.0   0.0  0.0  0.0  0.0    0.0   0.0       0.0   0.0  \n",
       "41971  0.0     0.0   0.0  0.0  0.0  0.0    0.0   0.0       0.0   0.0  \n",
       "41972  0.0     0.0   0.0  0.0  0.0  0.0    0.0   0.0       0.0   0.0  \n",
       "41973  0.0     0.0   0.0  0.0  0.0  0.0    0.0   0.0       0.0   0.0  \n",
       "41974  0.0     0.0   0.0  0.0  0.0  0.0    0.0   0.0       0.0   0.0  \n",
       "\n",
       "[41975 rows x 500 columns]"
      ]
     },
     "execution_count": 51,
     "metadata": {},
     "output_type": "execute_result"
    }
   ],
   "source": [
    "tfidf_df"
   ]
  },
  {
   "cell_type": "markdown",
   "id": "dcebd609",
   "metadata": {},
   "source": [
    "### Assemble All Columns and Scale"
   ]
  },
  {
   "cell_type": "code",
   "execution_count": 52,
   "id": "90b4dc3e",
   "metadata": {},
   "outputs": [],
   "source": [
    "all_features = numeric_features + categorical_features + binary_features # + [nlp_feature]"
   ]
  },
  {
   "cell_type": "code",
   "execution_count": 53,
   "id": "7969cbb7",
   "metadata": {},
   "outputs": [],
   "source": [
    "y = X[target]"
   ]
  },
  {
   "cell_type": "code",
   "execution_count": 54,
   "id": "adb9fdc4",
   "metadata": {},
   "outputs": [],
   "source": [
    "X = X[all_features]"
   ]
  },
  {
   "cell_type": "code",
   "execution_count": 55,
   "id": "f0eb26b8",
   "metadata": {},
   "outputs": [],
   "source": [
    "X = pd.concat([X, tfidf_df], axis=1).reset_index()"
   ]
  },
  {
   "cell_type": "code",
   "execution_count": 56,
   "id": "480084f5",
   "metadata": {},
   "outputs": [
    {
     "data": {
      "text/html": [
       "<div>\n",
       "<style scoped>\n",
       "    .dataframe tbody tr th:only-of-type {\n",
       "        vertical-align: middle;\n",
       "    }\n",
       "\n",
       "    .dataframe tbody tr th {\n",
       "        vertical-align: top;\n",
       "    }\n",
       "\n",
       "    .dataframe thead th {\n",
       "        text-align: right;\n",
       "    }\n",
       "</style>\n",
       "<table border=\"1\" class=\"dataframe\">\n",
       "  <thead>\n",
       "    <tr style=\"text-align: right;\">\n",
       "      <th></th>\n",
       "      <th>index</th>\n",
       "      <th>acousticness</th>\n",
       "      <th>danceability</th>\n",
       "      <th>duration_ms</th>\n",
       "      <th>energy</th>\n",
       "      <th>instrumentalness</th>\n",
       "      <th>liveness</th>\n",
       "      <th>loudness</th>\n",
       "      <th>speechiness</th>\n",
       "      <th>tempo</th>\n",
       "      <th>...</th>\n",
       "      <th>ya</th>\n",
       "      <th>yachty</th>\n",
       "      <th>year</th>\n",
       "      <th>yg</th>\n",
       "      <th>yo</th>\n",
       "      <th>you</th>\n",
       "      <th>young</th>\n",
       "      <th>your</th>\n",
       "      <th>yourself</th>\n",
       "      <th>yung</th>\n",
       "    </tr>\n",
       "  </thead>\n",
       "  <tbody>\n",
       "    <tr>\n",
       "      <th>0</th>\n",
       "      <td>0</td>\n",
       "      <td>0.058080</td>\n",
       "      <td>0.831</td>\n",
       "      <td>11.732382</td>\n",
       "      <td>0.814</td>\n",
       "      <td>0.013400</td>\n",
       "      <td>0.054109</td>\n",
       "      <td>-7.364000</td>\n",
       "      <td>0.350657</td>\n",
       "      <td>156.985</td>\n",
       "      <td>...</td>\n",
       "      <td>0.0</td>\n",
       "      <td>0.0</td>\n",
       "      <td>0.0</td>\n",
       "      <td>0.0</td>\n",
       "      <td>0.0</td>\n",
       "      <td>0.0</td>\n",
       "      <td>0.0</td>\n",
       "      <td>0.0</td>\n",
       "      <td>0.0</td>\n",
       "      <td>0.0</td>\n",
       "    </tr>\n",
       "    <tr>\n",
       "      <th>1</th>\n",
       "      <td>1</td>\n",
       "      <td>0.337186</td>\n",
       "      <td>0.719</td>\n",
       "      <td>12.321310</td>\n",
       "      <td>0.493</td>\n",
       "      <td>0.000000</td>\n",
       "      <td>0.111541</td>\n",
       "      <td>-7.230000</td>\n",
       "      <td>0.076405</td>\n",
       "      <td>115.080</td>\n",
       "      <td>...</td>\n",
       "      <td>0.0</td>\n",
       "      <td>0.0</td>\n",
       "      <td>0.0</td>\n",
       "      <td>0.0</td>\n",
       "      <td>0.0</td>\n",
       "      <td>0.0</td>\n",
       "      <td>0.0</td>\n",
       "      <td>0.0</td>\n",
       "      <td>0.0</td>\n",
       "      <td>0.0</td>\n",
       "    </tr>\n",
       "    <tr>\n",
       "      <th>2</th>\n",
       "      <td>2</td>\n",
       "      <td>0.013706</td>\n",
       "      <td>0.850</td>\n",
       "      <td>11.501076</td>\n",
       "      <td>0.893</td>\n",
       "      <td>0.000004</td>\n",
       "      <td>0.316270</td>\n",
       "      <td>-5.833318</td>\n",
       "      <td>0.060436</td>\n",
       "      <td>218.050</td>\n",
       "      <td>...</td>\n",
       "      <td>0.0</td>\n",
       "      <td>0.0</td>\n",
       "      <td>0.0</td>\n",
       "      <td>0.0</td>\n",
       "      <td>0.0</td>\n",
       "      <td>0.0</td>\n",
       "      <td>0.0</td>\n",
       "      <td>0.0</td>\n",
       "      <td>0.0</td>\n",
       "      <td>0.0</td>\n",
       "    </tr>\n",
       "    <tr>\n",
       "      <th>3</th>\n",
       "      <td>3</td>\n",
       "      <td>0.023424</td>\n",
       "      <td>0.476</td>\n",
       "      <td>11.725307</td>\n",
       "      <td>0.781</td>\n",
       "      <td>0.000000</td>\n",
       "      <td>0.107957</td>\n",
       "      <td>-4.710000</td>\n",
       "      <td>0.098034</td>\n",
       "      <td>186.948</td>\n",
       "      <td>...</td>\n",
       "      <td>0.0</td>\n",
       "      <td>0.0</td>\n",
       "      <td>0.0</td>\n",
       "      <td>0.0</td>\n",
       "      <td>0.0</td>\n",
       "      <td>0.0</td>\n",
       "      <td>0.0</td>\n",
       "      <td>0.0</td>\n",
       "      <td>0.0</td>\n",
       "      <td>0.0</td>\n",
       "    </tr>\n",
       "    <tr>\n",
       "      <th>4</th>\n",
       "      <td>4</td>\n",
       "      <td>0.196389</td>\n",
       "      <td>0.798</td>\n",
       "      <td>11.722368</td>\n",
       "      <td>0.624</td>\n",
       "      <td>0.000000</td>\n",
       "      <td>0.153579</td>\n",
       "      <td>-7.668000</td>\n",
       "      <td>0.256965</td>\n",
       "      <td>147.988</td>\n",
       "      <td>...</td>\n",
       "      <td>0.0</td>\n",
       "      <td>0.0</td>\n",
       "      <td>0.0</td>\n",
       "      <td>0.0</td>\n",
       "      <td>0.0</td>\n",
       "      <td>0.0</td>\n",
       "      <td>0.0</td>\n",
       "      <td>0.0</td>\n",
       "      <td>0.0</td>\n",
       "      <td>0.0</td>\n",
       "    </tr>\n",
       "    <tr>\n",
       "      <th>...</th>\n",
       "      <td>...</td>\n",
       "      <td>...</td>\n",
       "      <td>...</td>\n",
       "      <td>...</td>\n",
       "      <td>...</td>\n",
       "      <td>...</td>\n",
       "      <td>...</td>\n",
       "      <td>...</td>\n",
       "      <td>...</td>\n",
       "      <td>...</td>\n",
       "      <td>...</td>\n",
       "      <td>...</td>\n",
       "      <td>...</td>\n",
       "      <td>...</td>\n",
       "      <td>...</td>\n",
       "      <td>...</td>\n",
       "      <td>...</td>\n",
       "      <td>...</td>\n",
       "      <td>...</td>\n",
       "      <td>...</td>\n",
       "      <td>...</td>\n",
       "    </tr>\n",
       "    <tr>\n",
       "      <th>41970</th>\n",
       "      <td>41970</td>\n",
       "      <td>0.031014</td>\n",
       "      <td>0.528</td>\n",
       "      <td>12.503243</td>\n",
       "      <td>0.693</td>\n",
       "      <td>0.000345</td>\n",
       "      <td>0.114221</td>\n",
       "      <td>-5.148000</td>\n",
       "      <td>0.029947</td>\n",
       "      <td>150.013</td>\n",
       "      <td>...</td>\n",
       "      <td>0.0</td>\n",
       "      <td>0.0</td>\n",
       "      <td>0.0</td>\n",
       "      <td>0.0</td>\n",
       "      <td>0.0</td>\n",
       "      <td>0.0</td>\n",
       "      <td>0.0</td>\n",
       "      <td>0.0</td>\n",
       "      <td>0.0</td>\n",
       "      <td>0.0</td>\n",
       "    </tr>\n",
       "    <tr>\n",
       "      <th>41971</th>\n",
       "      <td>41971</td>\n",
       "      <td>0.022251</td>\n",
       "      <td>0.517</td>\n",
       "      <td>12.255401</td>\n",
       "      <td>0.768</td>\n",
       "      <td>0.000018</td>\n",
       "      <td>0.186480</td>\n",
       "      <td>-7.922000</td>\n",
       "      <td>0.046788</td>\n",
       "      <td>149.928</td>\n",
       "      <td>...</td>\n",
       "      <td>0.0</td>\n",
       "      <td>0.0</td>\n",
       "      <td>0.0</td>\n",
       "      <td>0.0</td>\n",
       "      <td>0.0</td>\n",
       "      <td>0.0</td>\n",
       "      <td>0.0</td>\n",
       "      <td>0.0</td>\n",
       "      <td>0.0</td>\n",
       "      <td>0.0</td>\n",
       "    </tr>\n",
       "    <tr>\n",
       "      <th>41972</th>\n",
       "      <td>41972</td>\n",
       "      <td>0.025668</td>\n",
       "      <td>0.361</td>\n",
       "      <td>12.366592</td>\n",
       "      <td>0.821</td>\n",
       "      <td>0.000242</td>\n",
       "      <td>0.325700</td>\n",
       "      <td>-3.102000</td>\n",
       "      <td>0.049266</td>\n",
       "      <td>154.935</td>\n",
       "      <td>...</td>\n",
       "      <td>0.0</td>\n",
       "      <td>0.0</td>\n",
       "      <td>0.0</td>\n",
       "      <td>0.0</td>\n",
       "      <td>0.0</td>\n",
       "      <td>0.0</td>\n",
       "      <td>0.0</td>\n",
       "      <td>0.0</td>\n",
       "      <td>0.0</td>\n",
       "      <td>0.0</td>\n",
       "    </tr>\n",
       "    <tr>\n",
       "      <th>41973</th>\n",
       "      <td>41973</td>\n",
       "      <td>0.000551</td>\n",
       "      <td>0.477</td>\n",
       "      <td>12.686030</td>\n",
       "      <td>0.921</td>\n",
       "      <td>0.029600</td>\n",
       "      <td>0.055908</td>\n",
       "      <td>-4.777000</td>\n",
       "      <td>0.038451</td>\n",
       "      <td>150.042</td>\n",
       "      <td>...</td>\n",
       "      <td>0.0</td>\n",
       "      <td>0.0</td>\n",
       "      <td>0.0</td>\n",
       "      <td>0.0</td>\n",
       "      <td>0.0</td>\n",
       "      <td>0.0</td>\n",
       "      <td>0.0</td>\n",
       "      <td>0.0</td>\n",
       "      <td>0.0</td>\n",
       "      <td>0.0</td>\n",
       "    </tr>\n",
       "    <tr>\n",
       "      <th>41974</th>\n",
       "      <td>41974</td>\n",
       "      <td>0.001888</td>\n",
       "      <td>0.529</td>\n",
       "      <td>11.996351</td>\n",
       "      <td>0.945</td>\n",
       "      <td>0.000055</td>\n",
       "      <td>0.346423</td>\n",
       "      <td>-5.862000</td>\n",
       "      <td>0.059683</td>\n",
       "      <td>155.047</td>\n",
       "      <td>...</td>\n",
       "      <td>0.0</td>\n",
       "      <td>0.0</td>\n",
       "      <td>0.0</td>\n",
       "      <td>0.0</td>\n",
       "      <td>0.0</td>\n",
       "      <td>0.0</td>\n",
       "      <td>0.0</td>\n",
       "      <td>0.0</td>\n",
       "      <td>0.0</td>\n",
       "      <td>0.0</td>\n",
       "    </tr>\n",
       "  </tbody>\n",
       "</table>\n",
       "<p>41975 rows × 514 columns</p>\n",
       "</div>"
      ],
      "text/plain": [
       "       index  acousticness  danceability  duration_ms  energy  \\\n",
       "0          0      0.058080         0.831    11.732382   0.814   \n",
       "1          1      0.337186         0.719    12.321310   0.493   \n",
       "2          2      0.013706         0.850    11.501076   0.893   \n",
       "3          3      0.023424         0.476    11.725307   0.781   \n",
       "4          4      0.196389         0.798    11.722368   0.624   \n",
       "...      ...           ...           ...          ...     ...   \n",
       "41970  41970      0.031014         0.528    12.503243   0.693   \n",
       "41971  41971      0.022251         0.517    12.255401   0.768   \n",
       "41972  41972      0.025668         0.361    12.366592   0.821   \n",
       "41973  41973      0.000551         0.477    12.686030   0.921   \n",
       "41974  41974      0.001888         0.529    11.996351   0.945   \n",
       "\n",
       "       instrumentalness  liveness  loudness  speechiness    tempo  ...   ya  \\\n",
       "0              0.013400  0.054109 -7.364000     0.350657  156.985  ...  0.0   \n",
       "1              0.000000  0.111541 -7.230000     0.076405  115.080  ...  0.0   \n",
       "2              0.000004  0.316270 -5.833318     0.060436  218.050  ...  0.0   \n",
       "3              0.000000  0.107957 -4.710000     0.098034  186.948  ...  0.0   \n",
       "4              0.000000  0.153579 -7.668000     0.256965  147.988  ...  0.0   \n",
       "...                 ...       ...       ...          ...      ...  ...  ...   \n",
       "41970          0.000345  0.114221 -5.148000     0.029947  150.013  ...  0.0   \n",
       "41971          0.000018  0.186480 -7.922000     0.046788  149.928  ...  0.0   \n",
       "41972          0.000242  0.325700 -3.102000     0.049266  154.935  ...  0.0   \n",
       "41973          0.029600  0.055908 -4.777000     0.038451  150.042  ...  0.0   \n",
       "41974          0.000055  0.346423 -5.862000     0.059683  155.047  ...  0.0   \n",
       "\n",
       "       yachty  year   yg   yo  you  young  your  yourself  yung  \n",
       "0         0.0   0.0  0.0  0.0  0.0    0.0   0.0       0.0   0.0  \n",
       "1         0.0   0.0  0.0  0.0  0.0    0.0   0.0       0.0   0.0  \n",
       "2         0.0   0.0  0.0  0.0  0.0    0.0   0.0       0.0   0.0  \n",
       "3         0.0   0.0  0.0  0.0  0.0    0.0   0.0       0.0   0.0  \n",
       "4         0.0   0.0  0.0  0.0  0.0    0.0   0.0       0.0   0.0  \n",
       "...       ...   ...  ...  ...  ...    ...   ...       ...   ...  \n",
       "41970     0.0   0.0  0.0  0.0  0.0    0.0   0.0       0.0   0.0  \n",
       "41971     0.0   0.0  0.0  0.0  0.0    0.0   0.0       0.0   0.0  \n",
       "41972     0.0   0.0  0.0  0.0  0.0    0.0   0.0       0.0   0.0  \n",
       "41973     0.0   0.0  0.0  0.0  0.0    0.0   0.0       0.0   0.0  \n",
       "41974     0.0   0.0  0.0  0.0  0.0    0.0   0.0       0.0   0.0  \n",
       "\n",
       "[41975 rows x 514 columns]"
      ]
     },
     "execution_count": 56,
     "metadata": {},
     "output_type": "execute_result"
    }
   ],
   "source": [
    "X"
   ]
  },
  {
   "cell_type": "code",
   "execution_count": 57,
   "id": "6937e62b",
   "metadata": {},
   "outputs": [],
   "source": [
    "from sklearn.preprocessing import StandardScaler"
   ]
  },
  {
   "cell_type": "code",
   "execution_count": 58,
   "id": "59085e05",
   "metadata": {},
   "outputs": [],
   "source": [
    "scaler = StandardScaler()\n",
    "X_scaled = scaler.fit_transform(X)"
   ]
  },
  {
   "cell_type": "markdown",
   "id": "d3f8bf97",
   "metadata": {},
   "source": [
    "### Encode Targets"
   ]
  },
  {
   "cell_type": "code",
   "execution_count": 59,
   "id": "78958a3a",
   "metadata": {},
   "outputs": [],
   "source": [
    "from sklearn.preprocessing import LabelEncoder\n",
    "\n",
    "le = LabelEncoder()\n",
    "y_trans = le.fit_transform(y)"
   ]
  },
  {
   "cell_type": "code",
   "execution_count": 61,
   "id": "2f254f5f",
   "metadata": {},
   "outputs": [
    {
     "data": {
      "text/plain": [
       "array(['Dark Trap', 'Emo', 'Hiphop', 'Pop', 'Rap', 'RnB', 'Trap Metal',\n",
       "       'Underground Rap', 'dnb', 'hardstyle', 'psytrance', 'techhouse',\n",
       "       'techno', 'trance', 'trap'], dtype=object)"
      ]
     },
     "execution_count": 61,
     "metadata": {},
     "output_type": "execute_result"
    }
   ],
   "source": [
    "le.classes_"
   ]
  },
  {
   "cell_type": "code",
   "execution_count": 62,
   "id": "31ed8b68",
   "metadata": {},
   "outputs": [
    {
     "data": {
      "text/plain": [
       "15"
      ]
     },
     "execution_count": 62,
     "metadata": {},
     "output_type": "execute_result"
    }
   ],
   "source": [
    "len(le.classes_)"
   ]
  },
  {
   "cell_type": "markdown",
   "id": "2d9fab92",
   "metadata": {},
   "source": [
    "## 3. Clustering"
   ]
  },
  {
   "cell_type": "code",
   "execution_count": 64,
   "id": "11b6aa70",
   "metadata": {},
   "outputs": [],
   "source": [
    "from sklearn.cluster import KMeans"
   ]
  },
  {
   "cell_type": "code",
   "execution_count": 65,
   "id": "16ad4fce",
   "metadata": {},
   "outputs": [],
   "source": [
    "kmeans = KMeans(n_clusters=15,\n",
    "                init='k-means++')\n",
    "# Fit dataset\n",
    "kmeans.fit(X)\n",
    "# We can predict the clusters of another dataset!\n",
    "y_pred = kmeans.predict(X)"
   ]
  },
  {
   "cell_type": "code",
   "execution_count": 66,
   "id": "d7d7fdda",
   "metadata": {},
   "outputs": [
    {
     "data": {
      "text/plain": [
       "array([9, 9, 9, ..., 6, 6, 6], dtype=int32)"
      ]
     },
     "execution_count": 66,
     "metadata": {},
     "output_type": "execute_result"
    }
   ],
   "source": [
    "y_pred"
   ]
  },
  {
   "cell_type": "code",
   "execution_count": 72,
   "id": "1aa36167",
   "metadata": {},
   "outputs": [],
   "source": [
    "from sklearn.metrics import classification_report, confusion_matrix"
   ]
  },
  {
   "cell_type": "code",
   "execution_count": 75,
   "id": "6bf69304",
   "metadata": {},
   "outputs": [
    {
     "data": {
      "text/plain": [
       "<AxesSubplot:>"
      ]
     },
     "execution_count": 75,
     "metadata": {},
     "output_type": "execute_result"
    },
    {
     "data": {
      "image/png": "[encoded data removed]",
      "text/plain": [
       "<Figure size 432x288 with 2 Axes>"
      ]
     },
     "metadata": {
      "needs_background": "light"
     },
     "output_type": "display_data"
    }
   ],
   "source": [
    "sns.heatmap(confusion_matrix(y_trans, y_pred))"
   ]
  },
  {
   "cell_type": "code",
   "execution_count": null,
   "id": "95060277",
   "metadata": {},
   "outputs": [],
   "source": []
  }
 ],
 "metadata": {
  "kernelspec": {
   "display_name": "Python 3 (ipykernel)",
   "language": "python",
   "name": "python3"
  },
  "language_info": {
   "codemirror_mode": {
    "name": "ipython",
    "version": 3
   },
   "file_extension": ".py",
   "mimetype": "text/x-python",
   "name": "python",
   "nbconvert_exporter": "python",
   "pygments_lexer": "ipython3",
   "version": "3.7.13"
  }
 },
 "nbformat": 4,
 "nbformat_minor": 5
}
